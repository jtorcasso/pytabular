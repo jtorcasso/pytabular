{
 "metadata": {
  "name": ""
 },
 "nbformat": 3,
 "nbformat_minor": 0,
 "worksheets": [
  {
   "cells": [
    {
     "cell_type": "markdown",
     "metadata": {},
     "source": [
      "PyTabular Tutorial\n",
      "------------------"
     ]
    },
    {
     "cell_type": "markdown",
     "metadata": {},
     "source": [
      "Getting Started\n",
      "---------------\n",
      "First we will import the PyTabular package in addition to numpy for generating data."
     ]
    },
    {
     "cell_type": "code",
     "collapsed": false,
     "input": [
      "import pytabular as pytab\n",
      "import numpy as np"
     ],
     "language": "python",
     "metadata": {},
     "outputs": [],
     "prompt_number": 1
    },
    {
     "cell_type": "markdown",
     "metadata": {},
     "source": [
      "Next, we will create some data. The data will be a list of rows, which are themselves lists. We could also have made these an array or dataframe. Each element in the row will be a cell in the table."
     ]
    },
    {
     "cell_type": "code",
     "collapsed": false,
     "input": [
      "header = [['', 'Treated', '', 'Control', ''],\n",
      "          ['Measure', 'Male', 'Female', 'Male', 'Female']]\n",
      "measures = ['var{}'.format(i) for i in xrange(10)]\n",
      "data = np.random.randn(10,4).tolist()\n",
      "data = [[measures[i]] + data[i] for i in xrange(10)]\n",
      "data = header + data\n",
      "for row in data:\n",
      "    print(row)"
     ],
     "language": "python",
     "metadata": {},
     "outputs": [
      {
       "output_type": "stream",
       "stream": "stdout",
       "text": [
        "['', 'Treated', '', 'Control', '']\n",
        "['Measure', 'Male', 'Female', 'Male', 'Female']\n",
        "['var0', 0.1899080429936497, 0.32909921490422006, -1.9923028658100868, 0.8905568484290636]\n",
        "['var1', 0.8464350239082822, 0.2756391203167643, -0.2858386594631477, -0.5138201472074129]\n",
        "['var2', -0.0932267977427967, -0.9572047470781427, 1.0505092232886755, -0.7193547570279172]\n",
        "['var3', 0.9356181072169703, 1.487979187935202, 0.8883430336078234, 0.04376302235851098]\n",
        "['var4', 0.367972542823216, 0.741707415035552, -0.549632228822281, -0.03815939359283378]\n",
        "['var5', -0.7901040156997886, -1.119140096395815, -1.2400149853204645, 1.0479624611883607]\n",
        "['var6', 0.17030756198320635, -0.4382607897596778, 1.2414593791017976, -0.5196926907253108]\n",
        "['var7', -0.6176876882966494, 0.782202884708918, -0.4798093024808414, -0.07013463236595009]\n",
        "['var8', 0.9276404366781618, 0.18139038463877527, -0.46136227830949816, 0.024539377927555187]\n",
        "['var9', 0.9104306541595404, 0.978422026916222, 0.8145472426818899, -2.0570384140720037]\n"
       ]
      }
     ],
     "prompt_number": 2
    },
    {
     "cell_type": "markdown",
     "metadata": {},
     "source": [
      "Creating a PyTabular object from this data is easy. From there, we can manipulate the table to customize the layout and look of the cells."
     ]
    },
    {
     "cell_type": "code",
     "collapsed": false,
     "input": [
      "tabular = pytab.Tabular(data)\n",
      "print('Shape:', tabular.shape)\n",
      "print(tabular)"
     ],
     "language": "python",
     "metadata": {},
     "outputs": [
      {
       "output_type": "stream",
       "stream": "stdout",
       "text": [
        "('Shape:', (12, 5))\n",
        "\\begin{ThreePartTable}\n",
        "\\begin{tabu}{ccccc}\n",
        "\n",
        "   & Treated &  & Control &  \\\\  \n",
        "\n",
        "  Measure & Male & Female & Male & Female \\\\  \n",
        "\n",
        "  var0 & 0.189908042994 & 0.329099214904 & -1.99230286581 & 0.890556848429 \\\\  \n",
        "\n",
        "  var1 & 0.846435023908 & 0.275639120317 & -0.285838659463 & -0.513820147207 \\\\  \n",
        "\n",
        "  var2 & -0.0932267977428 & -0.957204747078 & 1.05050922329 & -0.719354757028 \\\\  \n",
        "\n",
        "  var3 & 0.935618107217 & 1.48797918794 & 0.888343033608 & 0.0437630223585 \\\\  \n",
        "\n",
        "  var4 & 0.367972542823 & 0.741707415036 & -0.549632228822 & -0.0381593935928 \\\\  \n",
        "\n",
        "  var5 & -0.7901040157 & -1.1191400964 & -1.24001498532 & 1.04796246119 \\\\  \n",
        "\n",
        "  var6 & 0.170307561983 & -0.43826078976 & 1.2414593791 & -0.519692690725 \\\\  \n",
        "\n",
        "  var7 & -0.617687688297 & 0.782202884709 & -0.479809302481 & -0.070134632366 \\\\  \n",
        "\n",
        "  var8 & 0.927640436678 & 0.181390384639 & -0.461362278309 & 0.0245393779276 \\\\  \n",
        "\n",
        "  var9 & 0.91043065416 & 0.978422026916 & 0.814547242682 & -2.05703841407 \\\\  \n",
        "\n",
        "\\end{tabu}\n",
        "\\end{ThreePartTable}\n"
       ]
      }
     ],
     "prompt_number": 3
    },
    {
     "cell_type": "markdown",
     "metadata": {},
     "source": [
      "Operating on the Table\n",
      "----------------------\n",
      "Operate on the table using methods. Methods will either operate on the whole table or on the specific selection you make from the table. Make a selection using Python's slice syntax. Some examples include:\n",
      "\n",
      "- Select the cell in the upper-left:\n",
      "    \n",
      "    `tabular[0,0]`\n",
      "    \n",
      "- Select the 2nd row:\n",
      "\n",
      "    `tabular[1]`\n",
      "    \n",
      "- Select the 1st column:\n",
      "\n",
      "    `tabular[:,0]`\n",
      "    \n",
      "- Select cells in the first row, the 2nd column to the last:\n",
      "\n",
      "    `tabular[:,1:]`\n",
      "    \n",
      "- Select cells in the 3rd column, from the 2nd to the 4th row:\n",
      "\n",
      "    `tabular[1:4,2]`\n",
      "\n",
      "Built-in methods either operate by-cell or to the table. Table methods, like `set_tab_alignment` operate on the whole table and should not be used on a selection. Other methods, like `set_bold` and `merge` operate on selections of the table. `set_bold` does the same thing to each cell in the selection. However, `merge` is a special function which we will explore next. "
     ]
    },
    {
     "cell_type": "markdown",
     "metadata": {},
     "source": [
      "Merging Cells in the Header\n",
      "---------------------------\n",
      "\n",
      "\n",
      "    \n",
      "-   Take a table, or a selection from a table and merge the selected cells together. The content for the merged block is taken from\n",
      "    the cell in the upper-left. All operations on this merged cell should be applied to the cell in\n",
      "    this upper-left location."
     ]
    },
    {
     "cell_type": "code",
     "collapsed": false,
     "input": [
      "tabular[0,1:3].merge() #merges cells in row 0, columns 1 and 2\n",
      "tabular[0,3:].merge() #merges cells in row 0, columns 3 and 4\n",
      "print(tabular)"
     ],
     "language": "python",
     "metadata": {},
     "outputs": [
      {
       "output_type": "stream",
       "stream": "stdout",
       "text": [
        "\\begin{ThreePartTable}\n",
        "\\begin{tabu}{ccccc}\n",
        "\n",
        "   & \\mc{2}{c}{Treated} & \\mc{2}{c}{Control} \\\\  \n",
        "\n",
        "  Measure & Male & Female & Male & Female \\\\  \n",
        "\n",
        "  var0 & 0.189908042994 & 0.329099214904 & -1.99230286581 & 0.890556848429 \\\\  \n",
        "\n",
        "  var1 & 0.846435023908 & 0.275639120317 & -0.285838659463 & -0.513820147207 \\\\  \n",
        "\n",
        "  var2 & -0.0932267977428 & -0.957204747078 & 1.05050922329 & -0.719354757028 \\\\  \n",
        "\n",
        "  var3 & 0.935618107217 & 1.48797918794 & 0.888343033608 & 0.0437630223585 \\\\  \n",
        "\n",
        "  var4 & 0.367972542823 & 0.741707415036 & -0.549632228822 & -0.0381593935928 \\\\  \n",
        "\n",
        "  var5 & -0.7901040157 & -1.1191400964 & -1.24001498532 & 1.04796246119 \\\\  \n",
        "\n",
        "  var6 & 0.170307561983 & -0.43826078976 & 1.2414593791 & -0.519692690725 \\\\  \n",
        "\n",
        "  var7 & -0.617687688297 & 0.782202884709 & -0.479809302481 & -0.070134632366 \\\\  \n",
        "\n",
        "  var8 & 0.927640436678 & 0.181390384639 & -0.461362278309 & 0.0245393779276 \\\\  \n",
        "\n",
        "  var9 & 0.91043065416 & 0.978422026916 & 0.814547242682 & -2.05703841407 \\\\  \n",
        "\n",
        "\\end{tabu}\n",
        "\\end{ThreePartTable}\n"
       ]
      }
     ],
     "prompt_number": 4
    },
    {
     "cell_type": "markdown",
     "metadata": {},
     "source": [
      "Now let's add some horizontal lines with `set_lines` option. `set_lines(lines, narrow)` takes two parameters:\n",
      "\n",
      "- lines: '-' for a single underlying horizontal line, '=' for double\n",
      "\n",
      "-   narrow: a string to tell cmidrule whether or not to shorten the line on either side of the\n",
      "    cell, use 'r' to shorten on the right, 'l' for left and 'rl' on both\n",
      "\n",
      "When using `set_lines` on merged cells, will produce a horizontal line extending across all of the cells merged together."
     ]
    },
    {
     "cell_type": "code",
     "collapsed": false,
     "input": [
      "tabular[0,1:3].set_lines(lines=1, narrow='rl')\n",
      "tabular[0,3:].set_lines(lines=2, narrow='rl')\n",
      "print(tabular)"
     ],
     "language": "python",
     "metadata": {},
     "outputs": [
      {
       "output_type": "stream",
       "stream": "stdout",
       "text": [
        "\\begin{ThreePartTable}\n",
        "\\begin{tabu}{ccccc}\n",
        "\n",
        "   & \\mc{2}{c}{Treated} & \\mc{2}{c}{Control} \\\\ \n",
        "  \\cmidrule(rl){2-3} \\cmidrule(rl){4-5}\\morecmidrules\\cmidrule(rl){4-5} \n",
        "\n",
        "  Measure & Male & Female & Male & Female \\\\  \n",
        "\n",
        "  var0 & 0.189908042994 & 0.329099214904 & -1.99230286581 & 0.890556848429 \\\\  \n",
        "\n",
        "  var1 & 0.846435023908 & 0.275639120317 & -0.285838659463 & -0.513820147207 \\\\  \n",
        "\n",
        "  var2 & -0.0932267977428 & -0.957204747078 & 1.05050922329 & -0.719354757028 \\\\  \n",
        "\n",
        "  var3 & 0.935618107217 & 1.48797918794 & 0.888343033608 & 0.0437630223585 \\\\  \n",
        "\n",
        "  var4 & 0.367972542823 & 0.741707415036 & -0.549632228822 & -0.0381593935928 \\\\  \n",
        "\n",
        "  var5 & -0.7901040157 & -1.1191400964 & -1.24001498532 & 1.04796246119 \\\\  \n",
        "\n",
        "  var6 & 0.170307561983 & -0.43826078976 & 1.2414593791 & -0.519692690725 \\\\  \n",
        "\n",
        "  var7 & -0.617687688297 & 0.782202884709 & -0.479809302481 & -0.070134632366 \\\\  \n",
        "\n",
        "  var8 & 0.927640436678 & 0.181390384639 & -0.461362278309 & 0.0245393779276 \\\\  \n",
        "\n",
        "  var9 & 0.91043065416 & 0.978422026916 & 0.814547242682 & -2.05703841407 \\\\  \n",
        "\n",
        "\\end{tabu}\n",
        "\\end{ThreePartTable}\n"
       ]
      }
     ],
     "prompt_number": 5
    },
    {
     "cell_type": "markdown",
     "metadata": {},
     "source": [
      "And we will add a horizontal line below the 2nd row."
     ]
    },
    {
     "cell_type": "code",
     "collapsed": false,
     "input": [
      "tabular[1].set_lines(2)\n",
      "print(tabular)"
     ],
     "language": "python",
     "metadata": {},
     "outputs": [
      {
       "output_type": "stream",
       "stream": "stdout",
       "text": [
        "\\begin{ThreePartTable}\n",
        "\\begin{tabu}{ccccc}\n",
        "\n",
        "   & \\mc{2}{c}{Treated} & \\mc{2}{c}{Control} \\\\ \n",
        "  \\cmidrule(rl){2-3} \\cmidrule(rl){4-5}\\morecmidrules\\cmidrule(rl){4-5} \n",
        "\n",
        "  Measure & Male & Female & Male & Female \\\\ \n",
        "  \\hline \\hline  \n",
        "\n",
        "  var0 & 0.189908042994 & 0.329099214904 & -1.99230286581 & 0.890556848429 \\\\  \n",
        "\n",
        "  var1 & 0.846435023908 & 0.275639120317 & -0.285838659463 & -0.513820147207 \\\\  \n",
        "\n",
        "  var2 & -0.0932267977428 & -0.957204747078 & 1.05050922329 & -0.719354757028 \\\\  \n",
        "\n",
        "  var3 & 0.935618107217 & 1.48797918794 & 0.888343033608 & 0.0437630223585 \\\\  \n",
        "\n",
        "  var4 & 0.367972542823 & 0.741707415036 & -0.549632228822 & -0.0381593935928 \\\\  \n",
        "\n",
        "  var5 & -0.7901040157 & -1.1191400964 & -1.24001498532 & 1.04796246119 \\\\  \n",
        "\n",
        "  var6 & 0.170307561983 & -0.43826078976 & 1.2414593791 & -0.519692690725 \\\\  \n",
        "\n",
        "  var7 & -0.617687688297 & 0.782202884709 & -0.479809302481 & -0.070134632366 \\\\  \n",
        "\n",
        "  var8 & 0.927640436678 & 0.181390384639 & -0.461362278309 & 0.0245393779276 \\\\  \n",
        "\n",
        "  var9 & 0.91043065416 & 0.978422026916 & 0.814547242682 & -2.05703841407 \\\\  \n",
        "\n",
        "\\end{tabu}\n",
        "\\end{ThreePartTable}\n"
       ]
      }
     ],
     "prompt_number": 6
    },
    {
     "cell_type": "markdown",
     "metadata": {},
     "source": [
      "Custom Formatters\n",
      "-----------------\n",
      "As-is, the data in the cells is shown with too many significant digits and it is overwhelming. While we allow the user to pass in any formatter (a function which takes a cell value and returns a formatted value as a string), we provide some built-in formatters:\n",
      "\n",
      "- `set_digits` sets the number of significant digits displayed in cells"
     ]
    },
    {
     "cell_type": "code",
     "collapsed": false,
     "input": [
      "tabular[2:,1:].set_digits(3)\n",
      "print(tabular)"
     ],
     "language": "python",
     "metadata": {},
     "outputs": [
      {
       "output_type": "stream",
       "stream": "stdout",
       "text": [
        "\\begin{ThreePartTable}\n",
        "\\begin{tabu}{ccccc}\n",
        "\n",
        "   & \\mc{2}{c}{Treated} & \\mc{2}{c}{Control} \\\\ \n",
        "  \\cmidrule(rl){2-3} \\cmidrule(rl){4-5}\\morecmidrules\\cmidrule(rl){4-5} \n",
        "\n",
        "  Measure & Male & Female & Male & Female \\\\ \n",
        "  \\hline \\hline  \n",
        "\n",
        "  var0 & 0.190 & 0.329 & -1.992 & 0.891 \\\\  \n",
        "\n",
        "  var1 & 0.846 & 0.276 & -0.286 & -0.514 \\\\  \n",
        "\n",
        "  var2 & -0.093 & -0.957 & 1.051 & -0.719 \\\\  \n",
        "\n",
        "  var3 & 0.936 & 1.488 & 0.888 & 0.044 \\\\  \n",
        "\n",
        "  var4 & 0.368 & 0.742 & -0.550 & -0.038 \\\\  \n",
        "\n",
        "  var5 & -0.790 & -1.119 & -1.240 & 1.048 \\\\  \n",
        "\n",
        "  var6 & 0.170 & -0.438 & 1.241 & -0.520 \\\\  \n",
        "\n",
        "  var7 & -0.618 & 0.782 & -0.480 & -0.070 \\\\  \n",
        "\n",
        "  var8 & 0.928 & 0.181 & -0.461 & 0.025 \\\\  \n",
        "\n",
        "  var9 & 0.910 & 0.978 & 0.815 & -2.057 \\\\  \n",
        "\n",
        "\\end{tabu}\n",
        "\\end{ThreePartTable}\n"
       ]
      }
     ],
     "prompt_number": 7
    },
    {
     "cell_type": "markdown",
     "metadata": {},
     "source": [
      "Adding Data\n",
      "-----------\n",
      "What if we have data from another table that we want to include? Let's say we forgot to include an observations column. "
     ]
    },
    {
     "cell_type": "code",
     "collapsed": false,
     "input": [
      "# obs = a column of data we forgot about\n",
      "obs = np.array(['', 'Observations'] + np.random.randint(500, 100000, 10).tolist()).reshape((-1,1))\n",
      "add = pytab.Tabular(obs)\n",
      "print(add.shape)\n",
      "print(tabular.shape)"
     ],
     "language": "python",
     "metadata": {},
     "outputs": [
      {
       "output_type": "stream",
       "stream": "stdout",
       "text": [
        "(12, 1)\n",
        "(12, 5)\n"
       ]
      }
     ],
     "prompt_number": 8
    },
    {
     "cell_type": "markdown",
     "metadata": {},
     "source": [
      "We will use `hstack` to stack additional columns to the right of our previous table. NOTE: Use `vstack` to tack on an additional row."
     ]
    },
    {
     "cell_type": "code",
     "collapsed": false,
     "input": [
      "newtabular = pytab.hstack(tabular, add)\n",
      "print(newtabular)"
     ],
     "language": "python",
     "metadata": {},
     "outputs": [
      {
       "output_type": "stream",
       "stream": "stdout",
       "text": [
        "\\begin{ThreePartTable}\n",
        "\\begin{tabu}{cccccc}\n",
        "\n",
        "   & Treated &  & Control &  &  \\\\  \n",
        "\n",
        "  Measure & Male & Female & Male & Female & Observations \\\\  \n",
        "\n",
        "  var0 & 0.189908042994 & 0.329099214904 & -1.99230286581 & 0.890556848429 & 79214 \\\\  \n",
        "\n",
        "  var1 & 0.846435023908 & 0.275639120317 & -0.285838659463 & -0.513820147207 & 13192 \\\\  \n",
        "\n",
        "  var2 & -0.0932267977428 & -0.957204747078 & 1.05050922329 & -0.719354757028 & 73758 \\\\  \n",
        "\n",
        "  var3 & 0.935618107217 & 1.48797918794 & 0.888343033608 & 0.0437630223585 & 92436 \\\\  \n",
        "\n",
        "  var4 & 0.367972542823 & 0.741707415036 & -0.549632228822 & -0.0381593935928 & 92994 \\\\  \n",
        "\n",
        "  var5 & -0.7901040157 & -1.1191400964 & -1.24001498532 & 1.04796246119 & 57340 \\\\  \n",
        "\n",
        "  var6 & 0.170307561983 & -0.43826078976 & 1.2414593791 & -0.519692690725 & 47988 \\\\  \n",
        "\n",
        "  var7 & -0.617687688297 & 0.782202884709 & -0.479809302481 & -0.070134632366 & 86725 \\\\  \n",
        "\n",
        "  var8 & 0.927640436678 & 0.181390384639 & -0.461362278309 & 0.0245393779276 & 18388 \\\\  \n",
        "\n",
        "  var9 & 0.91043065416 & 0.978422026916 & 0.814547242682 & -2.05703841407 & 50472 \\\\  \n",
        "\n",
        "\\end{tabu}\n",
        "\\end{ThreePartTable}\n"
       ]
      }
     ],
     "prompt_number": 9
    },
    {
     "cell_type": "markdown",
     "metadata": {},
     "source": [
      "Notice that all of the formatting we have just done has gone away. The cells have reverted to their default values so as to not cause any conflicts with data in the cells. Its a good idea then to add tables before you do formatting. We can repeat all of the previous steps."
     ]
    },
    {
     "cell_type": "code",
     "collapsed": false,
     "input": [
      "newtabular[0,1:3].merge() #merges cells in row 0, columns 1 and 2\n",
      "newtabular[0,3:-1].merge() #merges cells in row 0, columns 3 and 4\n",
      "newtabular[0,1:3].set_lines(lines=1, narrow='rl')\n",
      "newtabular[0,3:-1].set_lines(lines=2, narrow='rl')\n",
      "newtabular[1].set_lines(2)\n",
      "newtabular[2:,1:-1].set_digits(3)\n",
      "print(newtabular)"
     ],
     "language": "python",
     "metadata": {},
     "outputs": [
      {
       "output_type": "stream",
       "stream": "stdout",
       "text": [
        "\\begin{ThreePartTable}\n",
        "\\begin{tabu}{cccccc}\n",
        "\n",
        "   & \\mc{2}{c}{Treated} & \\mc{2}{c}{Control} &  \\\\ \n",
        "  \\cmidrule(rl){2-3} \\cmidrule(rl){4-5}\\morecmidrules\\cmidrule(rl){4-5} \n",
        "\n",
        "  Measure & Male & Female & Male & Female & Observations \\\\ \n",
        "  \\hline \\hline  \n",
        "\n",
        "  var0 & 0.190 & 0.329 & -1.992 & 0.891 & 79214 \\\\  \n",
        "\n",
        "  var1 & 0.846 & 0.276 & -0.286 & -0.514 & 13192 \\\\  \n",
        "\n",
        "  var2 & -0.093 & -0.957 & 1.051 & -0.719 & 73758 \\\\  \n",
        "\n",
        "  var3 & 0.936 & 1.488 & 0.888 & 0.044 & 92436 \\\\  \n",
        "\n",
        "  var4 & 0.368 & 0.742 & -0.550 & -0.038 & 92994 \\\\  \n",
        "\n",
        "  var5 & -0.790 & -1.119 & -1.240 & 1.048 & 57340 \\\\  \n",
        "\n",
        "  var6 & 0.170 & -0.438 & 1.241 & -0.520 & 47988 \\\\  \n",
        "\n",
        "  var7 & -0.618 & 0.782 & -0.480 & -0.070 & 86725 \\\\  \n",
        "\n",
        "  var8 & 0.928 & 0.181 & -0.461 & 0.025 & 18388 \\\\  \n",
        "\n",
        "  var9 & 0.910 & 0.978 & 0.815 & -2.057 & 50472 \\\\  \n",
        "\n",
        "\\end{tabu}\n",
        "\\end{ThreePartTable}\n"
       ]
      }
     ],
     "prompt_number": 10
    },
    {
     "cell_type": "markdown",
     "metadata": {},
     "source": [
      "But notice that the right-most column contains very large integers. Included in PyTabular is a formatter for integers. Let's try it out!"
     ]
    },
    {
     "cell_type": "code",
     "collapsed": false,
     "input": [
      "newtabular[2:,-1].set_formatter(pytab.format_int)\n",
      "print(newtabular)"
     ],
     "language": "python",
     "metadata": {},
     "outputs": [
      {
       "output_type": "stream",
       "stream": "stdout",
       "text": [
        "\\begin{ThreePartTable}\n",
        "\\begin{tabu}{cccccc}\n",
        "\n",
        "   & \\mc{2}{c}{Treated} & \\mc{2}{c}{Control} &  \\\\ \n",
        "  \\cmidrule(rl){2-3} \\cmidrule(rl){4-5}\\morecmidrules\\cmidrule(rl){4-5} \n",
        "\n",
        "  Measure & Male & Female & Male & Female & Observations \\\\ \n",
        "  \\hline \\hline  \n",
        "\n",
        "  var0 & 0.190 & 0.329 & -1.992 & 0.891 & 79,214 \\\\  \n",
        "\n",
        "  var1 & 0.846 & 0.276 & -0.286 & -0.514 & 13,192 \\\\  \n",
        "\n",
        "  var2 & -0.093 & -0.957 & 1.051 & -0.719 & 73,758 \\\\  \n",
        "\n",
        "  var3 & 0.936 & 1.488 & 0.888 & 0.044 & 92,436 \\\\  \n",
        "\n",
        "  var4 & 0.368 & 0.742 & -0.550 & -0.038 & 92,994 \\\\  \n",
        "\n",
        "  var5 & -0.790 & -1.119 & -1.240 & 1.048 & 57,340 \\\\  \n",
        "\n",
        "  var6 & 0.170 & -0.438 & 1.241 & -0.520 & 47,988 \\\\  \n",
        "\n",
        "  var7 & -0.618 & 0.782 & -0.480 & -0.070 & 86,725 \\\\  \n",
        "\n",
        "  var8 & 0.928 & 0.181 & -0.461 & 0.025 & 18,388 \\\\  \n",
        "\n",
        "  var9 & 0.910 & 0.978 & 0.815 & -2.057 & 50,472 \\\\  \n",
        "\n",
        "\\end{tabu}\n",
        "\\end{ThreePartTable}\n"
       ]
      }
     ],
     "prompt_number": 11
    },
    {
     "cell_type": "markdown",
     "metadata": {},
     "source": [
      "Exploring the Options\n",
      "---------------------\n",
      "\n",
      "PyTabular contains many methods for customizing the look of your tables. Using a method on a table selection will apply that method to all of the cells in the selection.\n",
      "\n",
      "- bold cells with `set_bold`\n",
      "- emphasize (italicize) cells with `set_emph`\n",
      "- set the fontsize of cells with `set_fontsize`\n",
      "- set the color of cells with `set_color`"
     ]
    },
    {
     "cell_type": "code",
     "collapsed": false,
     "input": [
      "newtabular[0].set_bold()  #bolds all cells in first row\n",
      "newtabular[1].set_emph() #italicizes cell in 2nd row\n",
      "newtabular[0].set_fontsize('Large') #Huge fontsize for cells in first row\n",
      "newtabular[2:,1:].set_alignment('r') #right align the cells containing numbers\n",
      "newtabular[2:,0].set_alignment('l|') #left align and add vertical line to right\n",
      "newtabular[5].set_color(color='gray',opacity=40) #highlight the cells in the 6th row \n",
      "newtabular[1].set_rotation(45) #rotate the content in row 2 45 degrees\n",
      "newtabular[1].set_space_below('0.3cm') #puts space below the 2nd row\n",
      "newtabular[2].set_space_above('0.3cm') #puts space above the 3nd row\n",
      "print(newtabular)"
     ],
     "language": "python",
     "metadata": {},
     "outputs": [
      {
       "output_type": "stream",
       "stream": "stdout",
       "text": [
        "\\begin{ThreePartTable}\n",
        "\\begin{tabu}{cccccc}\n",
        "\n",
        "   & \\mc{2}{c}{\\textbf{\\Large{Treated}}} & \\mc{2}{c}{\\textbf{\\Large{Control}}} &  \\\\ \n",
        "  \\cmidrule(rl){2-3} \\cmidrule(rl){4-5}\\morecmidrules\\cmidrule(rl){4-5} \n",
        "\n",
        "  \\rotatebox{45}{\\emph{Measure}} & \\rotatebox{45}{\\emph{Male}} & \\rotatebox{45}{\\emph{Female}} & \\rotatebox{45}{\\emph{Male}} & \\rotatebox{45}{\\emph{Female}} & \\rotatebox{45}{\\emph{Observations}} \\\\[0.3cm] \n",
        "  \\hline \\hline  \n",
        "\n",
        "  \\\\[0.3cm]\n",
        "  \\mc{1}{l|}{var0} & \\mc{1}{r}{0.190} & \\mc{1}{r}{0.329} & \\mc{1}{r}{-1.992} & \\mc{1}{r}{0.891} & \\mc{1}{r}{79,214} \\\\  \n",
        "\n",
        "  \\mc{1}{l|}{var1} & \\mc{1}{r}{0.846} & \\mc{1}{r}{0.276} & \\mc{1}{r}{-0.286} & \\mc{1}{r}{-0.514} & \\mc{1}{r}{13,192} \\\\  \n",
        "\n",
        "  \\mc{1}{l|}{var2} & \\mc{1}{r}{-0.093} & \\mc{1}{r}{-0.957} & \\mc{1}{r}{1.051} & \\mc{1}{r}{-0.719} & \\mc{1}{r}{73,758} \\\\  \n",
        "\n",
        "  \\mc{1}{l|}{\\cellcolor{gray!40}{var3}} & \\mc{1}{r}{\\cellcolor{gray!40}{0.936}} & \\mc{1}{r}{\\cellcolor{gray!40}{1.488}} & \\mc{1}{r}{\\cellcolor{gray!40}{0.888}} & \\mc{1}{r}{\\cellcolor{gray!40}{0.044}} & \\mc{1}{r}{\\cellcolor{gray!40}{92,436}} \\\\  \n",
        "\n",
        "  \\mc{1}{l|}{var4} & \\mc{1}{r}{0.368} & \\mc{1}{r}{0.742} & \\mc{1}{r}{-0.550} & \\mc{1}{r}{-0.038} & \\mc{1}{r}{92,994} \\\\  \n",
        "\n",
        "  \\mc{1}{l|}{var5} & \\mc{1}{r}{-0.790} & \\mc{1}{r}{-1.119} & \\mc{1}{r}{-1.240} & \\mc{1}{r}{1.048} & \\mc{1}{r}{57,340} \\\\  \n",
        "\n",
        "  \\mc{1}{l|}{var6} & \\mc{1}{r}{0.170} & \\mc{1}{r}{-0.438} & \\mc{1}{r}{1.241} & \\mc{1}{r}{-0.520} & \\mc{1}{r}{47,988} \\\\  \n",
        "\n",
        "  \\mc{1}{l|}{var7} & \\mc{1}{r}{-0.618} & \\mc{1}{r}{0.782} & \\mc{1}{r}{-0.480} & \\mc{1}{r}{-0.070} & \\mc{1}{r}{86,725} \\\\  \n",
        "\n",
        "  \\mc{1}{l|}{var8} & \\mc{1}{r}{0.928} & \\mc{1}{r}{0.181} & \\mc{1}{r}{-0.461} & \\mc{1}{r}{0.025} & \\mc{1}{r}{18,388} \\\\  \n",
        "\n",
        "  \\mc{1}{l|}{var9} & \\mc{1}{r}{0.910} & \\mc{1}{r}{0.978} & \\mc{1}{r}{0.815} & \\mc{1}{r}{-2.057} & \\mc{1}{r}{50,472} \\\\  \n",
        "\n",
        "\\end{tabu}\n",
        "\\end{ThreePartTable}\n"
       ]
      }
     ],
     "prompt_number": 12
    },
    {
     "cell_type": "markdown",
     "metadata": {},
     "source": [
      "Spacing between Columns\n",
      "-----------------------\n",
      "\n",
      "- use the `set_tab_alignment` method"
     ]
    },
    {
     "cell_type": "code",
     "collapsed": false,
     "input": [
      "# Set the spacing between columns by specifying a custom tabular string\n",
      "# i.e. the string \"cccccc\" in \"\\being{tabular}{cccccc}\"\n",
      "newtabular.set_tab_alignment('cp{2cm}p{2cm}p{2cm}p{2cm}p{2cm}')\n",
      "print(newtabular)"
     ],
     "language": "python",
     "metadata": {},
     "outputs": [
      {
       "output_type": "stream",
       "stream": "stdout",
       "text": [
        "\\begin{ThreePartTable}\n",
        "\\begin{tabu}{cp{2cm}p{2cm}p{2cm}p{2cm}p{2cm}}\n",
        "\n",
        "   & \\mc{2}{c}{\\textbf{\\Large{Treated}}} & \\mc{2}{c}{\\textbf{\\Large{Control}}} &  \\\\ \n",
        "  \\cmidrule(rl){2-3} \\cmidrule(rl){4-5}\\morecmidrules\\cmidrule(rl){4-5} \n",
        "\n",
        "  \\rotatebox{45}{\\emph{Measure}} & \\rotatebox{45}{\\emph{Male}} & \\rotatebox{45}{\\emph{Female}} & \\rotatebox{45}{\\emph{Male}} & \\rotatebox{45}{\\emph{Female}} & \\rotatebox{45}{\\emph{Observations}} \\\\[0.3cm] \n",
        "  \\hline \\hline  \n",
        "\n",
        "  \\\\[0.3cm]\n",
        "  \\mc{1}{l|}{var0} & \\mc{1}{r}{0.190} & \\mc{1}{r}{0.329} & \\mc{1}{r}{-1.992} & \\mc{1}{r}{0.891} & \\mc{1}{r}{79,214} \\\\  \n",
        "\n",
        "  \\mc{1}{l|}{var1} & \\mc{1}{r}{0.846} & \\mc{1}{r}{0.276} & \\mc{1}{r}{-0.286} & \\mc{1}{r}{-0.514} & \\mc{1}{r}{13,192} \\\\  \n",
        "\n",
        "  \\mc{1}{l|}{var2} & \\mc{1}{r}{-0.093} & \\mc{1}{r}{-0.957} & \\mc{1}{r}{1.051} & \\mc{1}{r}{-0.719} & \\mc{1}{r}{73,758} \\\\  \n",
        "\n",
        "  \\mc{1}{l|}{\\cellcolor{gray!40}{var3}} & \\mc{1}{r}{\\cellcolor{gray!40}{0.936}} & \\mc{1}{r}{\\cellcolor{gray!40}{1.488}} & \\mc{1}{r}{\\cellcolor{gray!40}{0.888}} & \\mc{1}{r}{\\cellcolor{gray!40}{0.044}} & \\mc{1}{r}{\\cellcolor{gray!40}{92,436}} \\\\  \n",
        "\n",
        "  \\mc{1}{l|}{var4} & \\mc{1}{r}{0.368} & \\mc{1}{r}{0.742} & \\mc{1}{r}{-0.550} & \\mc{1}{r}{-0.038} & \\mc{1}{r}{92,994} \\\\  \n",
        "\n",
        "  \\mc{1}{l|}{var5} & \\mc{1}{r}{-0.790} & \\mc{1}{r}{-1.119} & \\mc{1}{r}{-1.240} & \\mc{1}{r}{1.048} & \\mc{1}{r}{57,340} \\\\  \n",
        "\n",
        "  \\mc{1}{l|}{var6} & \\mc{1}{r}{0.170} & \\mc{1}{r}{-0.438} & \\mc{1}{r}{1.241} & \\mc{1}{r}{-0.520} & \\mc{1}{r}{47,988} \\\\  \n",
        "\n",
        "  \\mc{1}{l|}{var7} & \\mc{1}{r}{-0.618} & \\mc{1}{r}{0.782} & \\mc{1}{r}{-0.480} & \\mc{1}{r}{-0.070} & \\mc{1}{r}{86,725} \\\\  \n",
        "\n",
        "  \\mc{1}{l|}{var8} & \\mc{1}{r}{0.928} & \\mc{1}{r}{0.181} & \\mc{1}{r}{-0.461} & \\mc{1}{r}{0.025} & \\mc{1}{r}{18,388} \\\\  \n",
        "\n",
        "  \\mc{1}{l|}{var9} & \\mc{1}{r}{0.910} & \\mc{1}{r}{0.978} & \\mc{1}{r}{0.815} & \\mc{1}{r}{-2.057} & \\mc{1}{r}{50,472} \\\\  \n",
        "\n",
        "\\end{tabu}\n",
        "\\end{ThreePartTable}\n"
       ]
      }
     ],
     "prompt_number": 13
    },
    {
     "cell_type": "markdown",
     "metadata": {},
     "source": [
      "Casting as Other Types of Tables\n",
      "--------------------------------\n",
      "Casting as other table types will nest the tabular environment\n",
      "inside a table environment, or, in the case of Longtables, change\n",
      "from the tabu environment to the longtabu environment. \n",
      "\n",
      "In both cases, additional table methods become available. These include `set_caption`, `set_label`, \n",
      "and `set_location`. \n",
      "\n",
      "Table Environments:\n",
      "\n",
      "- Table (LateX `table` environment)\n",
      "- LongTable (LateX `longtabu` environment)\n",
      "    \n",
      "    The `LongTable` class allows the table to overflow on multiple pages.\n",
      "    It has an method `set_repeats` where the user can specify which rows\n",
      "    to repeat on every page."
     ]
    },
    {
     "cell_type": "code",
     "collapsed": false,
     "input": [
      "table = pytab.Table(newtabular)"
     ],
     "language": "python",
     "metadata": {},
     "outputs": [],
     "prompt_number": 14
    },
    {
     "cell_type": "code",
     "collapsed": false,
     "input": [
      "print(table)"
     ],
     "language": "python",
     "metadata": {},
     "outputs": [
      {
       "output_type": "stream",
       "stream": "stdout",
       "text": [
        "\\begin{table}\\centering\n",
        "\\captionsetup{singlelinecheck=false,justification=centering}\n",
        "\\caption{Table 1 \\label{table1}}\n",
        "\n",
        "  \\begin{ThreePartTable}\n",
        "  \\begin{tabu}{cccccc}\n",
        "\n",
        "     & \\mc{2}{c}{\\textbf{\\Large{Treated}}} & \\mc{2}{c}{\\textbf{\\Large{Control}}} &  \\\\ \n",
        "    \\cmidrule(rl){2-3} \\cmidrule(rl){4-5}\\morecmidrules\\cmidrule(rl){4-5} \n",
        "\n",
        "    \\rotatebox{45}{\\emph{Measure}} & \\rotatebox{45}{\\emph{Male}} & \\rotatebox{45}{\\emph{Female}} & \\rotatebox{45}{\\emph{Male}} & \\rotatebox{45}{\\emph{Female}} & \\rotatebox{45}{\\emph{Observations}} \\\\[0.3cm] \n",
        "    \\hline \\hline  \n",
        "\n",
        "    \\\\[0.3cm]\n",
        "    \\mc{1}{l|}{var0} & \\mc{1}{r}{0.190} & \\mc{1}{r}{0.329} & \\mc{1}{r}{-1.992} & \\mc{1}{r}{0.891} & \\mc{1}{r}{79,214} \\\\  \n",
        "\n",
        "    \\mc{1}{l|}{var1} & \\mc{1}{r}{0.846} & \\mc{1}{r}{0.276} & \\mc{1}{r}{-0.286} & \\mc{1}{r}{-0.514} & \\mc{1}{r}{13,192} \\\\  \n",
        "\n",
        "    \\mc{1}{l|}{var2} & \\mc{1}{r}{-0.093} & \\mc{1}{r}{-0.957} & \\mc{1}{r}{1.051} & \\mc{1}{r}{-0.719} & \\mc{1}{r}{73,758} \\\\  \n",
        "\n",
        "    \\mc{1}{l|}{\\cellcolor{gray!40}{var3}} & \\mc{1}{r}{\\cellcolor{gray!40}{0.936}} & \\mc{1}{r}{\\cellcolor{gray!40}{1.488}} & \\mc{1}{r}{\\cellcolor{gray!40}{0.888}} & \\mc{1}{r}{\\cellcolor{gray!40}{0.044}} & \\mc{1}{r}{\\cellcolor{gray!40}{92,436}} \\\\  \n",
        "\n",
        "    \\mc{1}{l|}{var4} & \\mc{1}{r}{0.368} & \\mc{1}{r}{0.742} & \\mc{1}{r}{-0.550} & \\mc{1}{r}{-0.038} & \\mc{1}{r}{92,994} \\\\  \n",
        "\n",
        "    \\mc{1}{l|}{var5} & \\mc{1}{r}{-0.790} & \\mc{1}{r}{-1.119} & \\mc{1}{r}{-1.240} & \\mc{1}{r}{1.048} & \\mc{1}{r}{57,340} \\\\  \n",
        "\n",
        "    \\mc{1}{l|}{var6} & \\mc{1}{r}{0.170} & \\mc{1}{r}{-0.438} & \\mc{1}{r}{1.241} & \\mc{1}{r}{-0.520} & \\mc{1}{r}{47,988} \\\\  \n",
        "\n",
        "    \\mc{1}{l|}{var7} & \\mc{1}{r}{-0.618} & \\mc{1}{r}{0.782} & \\mc{1}{r}{-0.480} & \\mc{1}{r}{-0.070} & \\mc{1}{r}{86,725} \\\\  \n",
        "\n",
        "    \\mc{1}{l|}{var8} & \\mc{1}{r}{0.928} & \\mc{1}{r}{0.181} & \\mc{1}{r}{-0.461} & \\mc{1}{r}{0.025} & \\mc{1}{r}{18,388} \\\\  \n",
        "\n",
        "    \\mc{1}{l|}{var9} & \\mc{1}{r}{0.910} & \\mc{1}{r}{0.978} & \\mc{1}{r}{0.815} & \\mc{1}{r}{-2.057} & \\mc{1}{r}{50,472} \\\\  \n",
        "\n",
        "  \\end{tabu}\n",
        "  \\end{ThreePartTable}\n",
        "\n",
        "\\end{table}\n"
       ]
      }
     ],
     "prompt_number": 15
    },
    {
     "cell_type": "code",
     "collapsed": false,
     "input": [
      "longtable = pytab.LongTable(newtabular)\n",
      "print(longtable)"
     ],
     "language": "python",
     "metadata": {},
     "outputs": [
      {
       "output_type": "stream",
       "stream": "stdout",
       "text": [
        "\\begin{ThreePartTable}\n",
        "\\begin{longtabu}{cccccc}\n",
        "\n",
        "  \\centering \\\\\n",
        "  \\captionsetup{singlelinecheck=false,justification=centering}\n",
        "  \\caption{Table 1 \\label{table1}} \\\\\n",
        "   & \\mc{2}{c}{\\textbf{\\Large{Treated}}} & \\mc{2}{c}{\\textbf{\\Large{Control}}} &  \\\\ \n",
        "  \\cmidrule(rl){2-3} \\cmidrule(rl){4-5}\\morecmidrules\\cmidrule(rl){4-5} \n",
        "\n",
        "  \\endfirsthead\n",
        "\n",
        "  \\mc{6}{c}{\\tablename\\ \\thetable\\ -- \\emph{Continued from previous page}} \\\\\n",
        "   & \\mc{2}{c}{\\textbf{\\Large{Treated}}} & \\mc{2}{c}{\\textbf{\\Large{Control}}} &  \\\\ \n",
        "  \\cmidrule(rl){2-3} \\cmidrule(rl){4-5}\\morecmidrules\\cmidrule(rl){4-5} \n",
        "\n",
        "  \\endhead\n",
        "\n",
        "  \\mc{6}{r}{\\emph{Continued on next page}} \\\\\n",
        "\n",
        "  \\endfoot\n",
        "  \\endlastfoot\n",
        "\n",
        "  \\rotatebox{45}{\\emph{Measure}} & \\rotatebox{45}{\\emph{Male}} & \\rotatebox{45}{\\emph{Female}} & \\rotatebox{45}{\\emph{Male}} & \\rotatebox{45}{\\emph{Female}} & \\rotatebox{45}{\\emph{Observations}} \\\\[0.3cm] \n",
        "  \\hline \\hline  \n",
        "\n",
        "  \\\\[0.3cm]\n",
        "  \\mc{1}{l|}{var0} & \\mc{1}{r}{0.190} & \\mc{1}{r}{0.329} & \\mc{1}{r}{-1.992} & \\mc{1}{r}{0.891} & \\mc{1}{r}{79,214} \\\\  \n",
        "\n",
        "  \\mc{1}{l|}{var1} & \\mc{1}{r}{0.846} & \\mc{1}{r}{0.276} & \\mc{1}{r}{-0.286} & \\mc{1}{r}{-0.514} & \\mc{1}{r}{13,192} \\\\  \n",
        "\n",
        "  \\mc{1}{l|}{var2} & \\mc{1}{r}{-0.093} & \\mc{1}{r}{-0.957} & \\mc{1}{r}{1.051} & \\mc{1}{r}{-0.719} & \\mc{1}{r}{73,758} \\\\  \n",
        "\n",
        "  \\mc{1}{l|}{\\cellcolor{gray!40}{var3}} & \\mc{1}{r}{\\cellcolor{gray!40}{0.936}} & \\mc{1}{r}{\\cellcolor{gray!40}{1.488}} & \\mc{1}{r}{\\cellcolor{gray!40}{0.888}} & \\mc{1}{r}{\\cellcolor{gray!40}{0.044}} & \\mc{1}{r}{\\cellcolor{gray!40}{92,436}} \\\\  \n",
        "\n",
        "  \\mc{1}{l|}{var4} & \\mc{1}{r}{0.368} & \\mc{1}{r}{0.742} & \\mc{1}{r}{-0.550} & \\mc{1}{r}{-0.038} & \\mc{1}{r}{92,994} \\\\  \n",
        "\n",
        "  \\mc{1}{l|}{var5} & \\mc{1}{r}{-0.790} & \\mc{1}{r}{-1.119} & \\mc{1}{r}{-1.240} & \\mc{1}{r}{1.048} & \\mc{1}{r}{57,340} \\\\  \n",
        "\n",
        "  \\mc{1}{l|}{var6} & \\mc{1}{r}{0.170} & \\mc{1}{r}{-0.438} & \\mc{1}{r}{1.241} & \\mc{1}{r}{-0.520} & \\mc{1}{r}{47,988} \\\\  \n",
        "\n",
        "  \\mc{1}{l|}{var7} & \\mc{1}{r}{-0.618} & \\mc{1}{r}{0.782} & \\mc{1}{r}{-0.480} & \\mc{1}{r}{-0.070} & \\mc{1}{r}{86,725} \\\\  \n",
        "\n",
        "  \\mc{1}{l|}{var8} & \\mc{1}{r}{0.928} & \\mc{1}{r}{0.181} & \\mc{1}{r}{-0.461} & \\mc{1}{r}{0.025} & \\mc{1}{r}{18,388} \\\\  \n",
        "\n",
        "  \\mc{1}{l|}{var9} & \\mc{1}{r}{0.910} & \\mc{1}{r}{0.978} & \\mc{1}{r}{0.815} & \\mc{1}{r}{-2.057} & \\mc{1}{r}{50,472} \\\\  \n",
        "\n",
        "\\end{longtabu}\n",
        "\\end{ThreePartTable}\n"
       ]
      }
     ],
     "prompt_number": 16
    },
    {
     "cell_type": "markdown",
     "metadata": {},
     "source": [
      "Table Methods\n",
      "-------------\n",
      "\n",
      "- `set_caption`: give table a caption\n",
      "- `set_label`: give table a label\n",
      "- `set_location`: justify the table center='c', left='l' or right='r'\n",
      "- `add_note`: add a footnote to the table\n",
      "\n",
      "LongTable Only:\n",
      "\n",
      "- `set_repeats`: tell LateX how many rows to repeat at the top of each page;\n",
      "this usually is the number of header rows in your table"
     ]
    },
    {
     "cell_type": "code",
     "collapsed": false,
     "input": [
      "table.set_caption('A Table with Numbers')\n",
      "table.set_label('tab:table1')\n",
      "table.set_location('l')\n",
      "table.add_note('This is a footnote')\n",
      "table.add_note('This is another footnote')\n",
      "table.add_note('[1]This footnote has a superscript')\n",
      "print(table)"
     ],
     "language": "python",
     "metadata": {},
     "outputs": [
      {
       "output_type": "stream",
       "stream": "stdout",
       "text": [
        "\\begin{table}\\raggedright\n",
        "\\captionsetup{singlelinecheck=false,justification=raggedright}\n",
        "\\caption{A Table with Numbers \\label{tab:table1}}\n",
        "\n",
        "  \\begin{ThreePartTable}\n",
        "  \\begin{tabu}{cccccc}\n",
        "\n",
        "     & \\mc{2}{c}{\\textbf{\\Large{Treated}}} & \\mc{2}{c}{\\textbf{\\Large{Control}}} &  \\\\ \n",
        "    \\cmidrule(rl){2-3} \\cmidrule(rl){4-5}\\morecmidrules\\cmidrule(rl){4-5} \n",
        "\n",
        "    \\rotatebox{45}{\\emph{Measure}} & \\rotatebox{45}{\\emph{Male}} & \\rotatebox{45}{\\emph{Female}} & \\rotatebox{45}{\\emph{Male}} & \\rotatebox{45}{\\emph{Female}} & \\rotatebox{45}{\\emph{Observations}} \\\\[0.3cm] \n",
        "    \\hline \\hline  \n",
        "\n",
        "    \\\\[0.3cm]\n",
        "    \\mc{1}{l|}{var0} & \\mc{1}{r}{0.190} & \\mc{1}{r}{0.329} & \\mc{1}{r}{-1.992} & \\mc{1}{r}{0.891} & \\mc{1}{r}{79,214} \\\\  \n",
        "\n",
        "    \\mc{1}{l|}{var1} & \\mc{1}{r}{0.846} & \\mc{1}{r}{0.276} & \\mc{1}{r}{-0.286} & \\mc{1}{r}{-0.514} & \\mc{1}{r}{13,192} \\\\  \n",
        "\n",
        "    \\mc{1}{l|}{var2} & \\mc{1}{r}{-0.093} & \\mc{1}{r}{-0.957} & \\mc{1}{r}{1.051} & \\mc{1}{r}{-0.719} & \\mc{1}{r}{73,758} \\\\  \n",
        "\n",
        "    \\mc{1}{l|}{\\cellcolor{gray!40}{var3}} & \\mc{1}{r}{\\cellcolor{gray!40}{0.936}} & \\mc{1}{r}{\\cellcolor{gray!40}{1.488}} & \\mc{1}{r}{\\cellcolor{gray!40}{0.888}} & \\mc{1}{r}{\\cellcolor{gray!40}{0.044}} & \\mc{1}{r}{\\cellcolor{gray!40}{92,436}} \\\\  \n",
        "\n",
        "    \\mc{1}{l|}{var4} & \\mc{1}{r}{0.368} & \\mc{1}{r}{0.742} & \\mc{1}{r}{-0.550} & \\mc{1}{r}{-0.038} & \\mc{1}{r}{92,994} \\\\  \n",
        "\n",
        "    \\mc{1}{l|}{var5} & \\mc{1}{r}{-0.790} & \\mc{1}{r}{-1.119} & \\mc{1}{r}{-1.240} & \\mc{1}{r}{1.048} & \\mc{1}{r}{57,340} \\\\  \n",
        "\n",
        "    \\mc{1}{l|}{var6} & \\mc{1}{r}{0.170} & \\mc{1}{r}{-0.438} & \\mc{1}{r}{1.241} & \\mc{1}{r}{-0.520} & \\mc{1}{r}{47,988} \\\\  \n",
        "\n",
        "    \\mc{1}{l|}{var7} & \\mc{1}{r}{-0.618} & \\mc{1}{r}{0.782} & \\mc{1}{r}{-0.480} & \\mc{1}{r}{-0.070} & \\mc{1}{r}{86,725} \\\\  \n",
        "\n",
        "    \\mc{1}{l|}{var8} & \\mc{1}{r}{0.928} & \\mc{1}{r}{0.181} & \\mc{1}{r}{-0.461} & \\mc{1}{r}{0.025} & \\mc{1}{r}{18,388} \\\\  \n",
        "\n",
        "    \\mc{1}{l|}{var9} & \\mc{1}{r}{0.910} & \\mc{1}{r}{0.978} & \\mc{1}{r}{0.815} & \\mc{1}{r}{-2.057} & \\mc{1}{r}{50,472} \\\\  \n",
        "\n",
        "  \\end{tabu}\n",
        "    \\begin{tablenotes}\n",
        "    \\scriptsize\n",
        "    \\item This is a footnote\n",
        "    \\item This is another footnote\n",
        "    \\item [1]This footnote has a superscript\n",
        "    \\end{tablenotes}\n",
        "  \\end{ThreePartTable}\n",
        "\n",
        "\\end{table}\n"
       ]
      }
     ],
     "prompt_number": 17
    },
    {
     "cell_type": "code",
     "collapsed": false,
     "input": [
      "longtable.set_repeats(2)\n",
      "longtable.add_note('Footnote for a long table.')\n",
      "print(longtable)"
     ],
     "language": "python",
     "metadata": {},
     "outputs": [
      {
       "output_type": "stream",
       "stream": "stdout",
       "text": [
        "\\begin{ThreePartTable}\n",
        "\\begin{longtabu}{cccccc}\n",
        "\n",
        "  \\centering \\\\\n",
        "  \\captionsetup{singlelinecheck=false,justification=centering}\n",
        "  \\caption{Table 1 \\label{table1}} \\\\\n",
        "   & \\mc{2}{c}{\\textbf{\\Large{Treated}}} & \\mc{2}{c}{\\textbf{\\Large{Control}}} &  \\\\ \n",
        "  \\cmidrule(rl){2-3} \\cmidrule(rl){4-5}\\morecmidrules\\cmidrule(rl){4-5} \n",
        "\n",
        "  \\rotatebox{45}{\\emph{Measure}} & \\rotatebox{45}{\\emph{Male}} & \\rotatebox{45}{\\emph{Female}} & \\rotatebox{45}{\\emph{Male}} & \\rotatebox{45}{\\emph{Female}} & \\rotatebox{45}{\\emph{Observations}} \\\\[0.3cm] \n",
        "  \\hline \\hline  \n",
        "\n",
        "  \\endfirsthead\n",
        "\n",
        "  \\mc{6}{c}{\\tablename\\ \\thetable\\ -- \\emph{Continued from previous page}} \\\\\n",
        "   & \\mc{2}{c}{\\textbf{\\Large{Treated}}} & \\mc{2}{c}{\\textbf{\\Large{Control}}} &  \\\\ \n",
        "  \\cmidrule(rl){2-3} \\cmidrule(rl){4-5}\\morecmidrules\\cmidrule(rl){4-5} \n",
        "\n",
        "  \\rotatebox{45}{\\emph{Measure}} & \\rotatebox{45}{\\emph{Male}} & \\rotatebox{45}{\\emph{Female}} & \\rotatebox{45}{\\emph{Male}} & \\rotatebox{45}{\\emph{Female}} & \\rotatebox{45}{\\emph{Observations}} \\\\[0.3cm] \n",
        "  \\hline \\hline  \n",
        "\n",
        "  \\endhead\n",
        "\n",
        "  \\mc{6}{r}{\\emph{Continued on next page}} \\\\\n",
        "\n",
        "  \\endfoot\n",
        "  \\endlastfoot\n",
        "\n",
        "  \\\\[0.3cm]\n",
        "  \\mc{1}{l|}{var0} & \\mc{1}{r}{0.190} & \\mc{1}{r}{0.329} & \\mc{1}{r}{-1.992} & \\mc{1}{r}{0.891} & \\mc{1}{r}{79,214} \\\\  \n",
        "\n",
        "  \\mc{1}{l|}{var1} & \\mc{1}{r}{0.846} & \\mc{1}{r}{0.276} & \\mc{1}{r}{-0.286} & \\mc{1}{r}{-0.514} & \\mc{1}{r}{13,192} \\\\  \n",
        "\n",
        "  \\mc{1}{l|}{var2} & \\mc{1}{r}{-0.093} & \\mc{1}{r}{-0.957} & \\mc{1}{r}{1.051} & \\mc{1}{r}{-0.719} & \\mc{1}{r}{73,758} \\\\  \n",
        "\n",
        "  \\mc{1}{l|}{\\cellcolor{gray!40}{var3}} & \\mc{1}{r}{\\cellcolor{gray!40}{0.936}} & \\mc{1}{r}{\\cellcolor{gray!40}{1.488}} & \\mc{1}{r}{\\cellcolor{gray!40}{0.888}} & \\mc{1}{r}{\\cellcolor{gray!40}{0.044}} & \\mc{1}{r}{\\cellcolor{gray!40}{92,436}} \\\\  \n",
        "\n",
        "  \\mc{1}{l|}{var4} & \\mc{1}{r}{0.368} & \\mc{1}{r}{0.742} & \\mc{1}{r}{-0.550} & \\mc{1}{r}{-0.038} & \\mc{1}{r}{92,994} \\\\  \n",
        "\n",
        "  \\mc{1}{l|}{var5} & \\mc{1}{r}{-0.790} & \\mc{1}{r}{-1.119} & \\mc{1}{r}{-1.240} & \\mc{1}{r}{1.048} & \\mc{1}{r}{57,340} \\\\  \n",
        "\n",
        "  \\mc{1}{l|}{var6} & \\mc{1}{r}{0.170} & \\mc{1}{r}{-0.438} & \\mc{1}{r}{1.241} & \\mc{1}{r}{-0.520} & \\mc{1}{r}{47,988} \\\\  \n",
        "\n",
        "  \\mc{1}{l|}{var7} & \\mc{1}{r}{-0.618} & \\mc{1}{r}{0.782} & \\mc{1}{r}{-0.480} & \\mc{1}{r}{-0.070} & \\mc{1}{r}{86,725} \\\\  \n",
        "\n",
        "  \\mc{1}{l|}{var8} & \\mc{1}{r}{0.928} & \\mc{1}{r}{0.181} & \\mc{1}{r}{-0.461} & \\mc{1}{r}{0.025} & \\mc{1}{r}{18,388} \\\\  \n",
        "\n",
        "  \\mc{1}{l|}{var9} & \\mc{1}{r}{0.910} & \\mc{1}{r}{0.978} & \\mc{1}{r}{0.815} & \\mc{1}{r}{-2.057} & \\mc{1}{r}{50,472} \\\\  \n",
        "\n",
        "\\end{longtabu}\n",
        "  \\begin{tablenotes}\n",
        "  \\scriptsize\n",
        "  \\item Footnote for a long table.\n",
        "  \\end{tablenotes}\n",
        "\\end{ThreePartTable}\n"
       ]
      }
     ],
     "prompt_number": 18
    },
    {
     "cell_type": "markdown",
     "metadata": {},
     "source": [
      "Nesting Inside Other Environments\n",
      "---------------------------------\n",
      "You can have PyTabular next tables inside other environments. For instance, the `landscape` environment.\n",
      "\n",
      "- `add_environment`"
     ]
    },
    {
     "cell_type": "code",
     "collapsed": false,
     "input": [
      "longtable.add_environment('landscape')\n",
      "print(longtable)"
     ],
     "language": "python",
     "metadata": {},
     "outputs": [
      {
       "output_type": "stream",
       "stream": "stdout",
       "text": [
        "\\begin{landscape}\n",
        "\n",
        "  \\begin{ThreePartTable}\n",
        "  \\begin{longtabu}{cccccc}\n",
        "\n",
        "    \\centering \\\\\n",
        "    \\captionsetup{singlelinecheck=false,justification=centering}\n",
        "    \\caption{Table 1 \\label{table1}} \\\\\n",
        "     & \\mc{2}{c}{\\textbf{\\Large{Treated}}} & \\mc{2}{c}{\\textbf{\\Large{Control}}} &  \\\\ \n",
        "    \\cmidrule(rl){2-3} \\cmidrule(rl){4-5}\\morecmidrules\\cmidrule(rl){4-5} \n",
        "\n",
        "    \\rotatebox{45}{\\emph{Measure}} & \\rotatebox{45}{\\emph{Male}} & \\rotatebox{45}{\\emph{Female}} & \\rotatebox{45}{\\emph{Male}} & \\rotatebox{45}{\\emph{Female}} & \\rotatebox{45}{\\emph{Observations}} \\\\[0.3cm] \n",
        "    \\hline \\hline  \n",
        "\n",
        "    \\endfirsthead\n",
        "\n",
        "    \\mc{6}{c}{\\tablename\\ \\thetable\\ -- \\emph{Continued from previous page}} \\\\\n",
        "     & \\mc{2}{c}{\\textbf{\\Large{Treated}}} & \\mc{2}{c}{\\textbf{\\Large{Control}}} &  \\\\ \n",
        "    \\cmidrule(rl){2-3} \\cmidrule(rl){4-5}\\morecmidrules\\cmidrule(rl){4-5} \n",
        "\n",
        "    \\rotatebox{45}{\\emph{Measure}} & \\rotatebox{45}{\\emph{Male}} & \\rotatebox{45}{\\emph{Female}} & \\rotatebox{45}{\\emph{Male}} & \\rotatebox{45}{\\emph{Female}} & \\rotatebox{45}{\\emph{Observations}} \\\\[0.3cm] \n",
        "    \\hline \\hline  \n",
        "\n",
        "    \\endhead\n",
        "\n",
        "    \\mc{6}{r}{\\emph{Continued on next page}} \\\\\n",
        "\n",
        "    \\endfoot\n",
        "    \\endlastfoot\n",
        "\n",
        "    \\\\[0.3cm]\n",
        "    \\mc{1}{l|}{var0} & \\mc{1}{r}{0.190} & \\mc{1}{r}{0.329} & \\mc{1}{r}{-1.992} & \\mc{1}{r}{0.891} & \\mc{1}{r}{79,214} \\\\  \n",
        "\n",
        "    \\mc{1}{l|}{var1} & \\mc{1}{r}{0.846} & \\mc{1}{r}{0.276} & \\mc{1}{r}{-0.286} & \\mc{1}{r}{-0.514} & \\mc{1}{r}{13,192} \\\\  \n",
        "\n",
        "    \\mc{1}{l|}{var2} & \\mc{1}{r}{-0.093} & \\mc{1}{r}{-0.957} & \\mc{1}{r}{1.051} & \\mc{1}{r}{-0.719} & \\mc{1}{r}{73,758} \\\\  \n",
        "\n",
        "    \\mc{1}{l|}{\\cellcolor{gray!40}{var3}} & \\mc{1}{r}{\\cellcolor{gray!40}{0.936}} & \\mc{1}{r}{\\cellcolor{gray!40}{1.488}} & \\mc{1}{r}{\\cellcolor{gray!40}{0.888}} & \\mc{1}{r}{\\cellcolor{gray!40}{0.044}} & \\mc{1}{r}{\\cellcolor{gray!40}{92,436}} \\\\  \n",
        "\n",
        "    \\mc{1}{l|}{var4} & \\mc{1}{r}{0.368} & \\mc{1}{r}{0.742} & \\mc{1}{r}{-0.550} & \\mc{1}{r}{-0.038} & \\mc{1}{r}{92,994} \\\\  \n",
        "\n",
        "    \\mc{1}{l|}{var5} & \\mc{1}{r}{-0.790} & \\mc{1}{r}{-1.119} & \\mc{1}{r}{-1.240} & \\mc{1}{r}{1.048} & \\mc{1}{r}{57,340} \\\\  \n",
        "\n",
        "    \\mc{1}{l|}{var6} & \\mc{1}{r}{0.170} & \\mc{1}{r}{-0.438} & \\mc{1}{r}{1.241} & \\mc{1}{r}{-0.520} & \\mc{1}{r}{47,988} \\\\  \n",
        "\n",
        "    \\mc{1}{l|}{var7} & \\mc{1}{r}{-0.618} & \\mc{1}{r}{0.782} & \\mc{1}{r}{-0.480} & \\mc{1}{r}{-0.070} & \\mc{1}{r}{86,725} \\\\  \n",
        "\n",
        "    \\mc{1}{l|}{var8} & \\mc{1}{r}{0.928} & \\mc{1}{r}{0.181} & \\mc{1}{r}{-0.461} & \\mc{1}{r}{0.025} & \\mc{1}{r}{18,388} \\\\  \n",
        "\n",
        "    \\mc{1}{l|}{var9} & \\mc{1}{r}{0.910} & \\mc{1}{r}{0.978} & \\mc{1}{r}{0.815} & \\mc{1}{r}{-2.057} & \\mc{1}{r}{50,472} \\\\  \n",
        "\n",
        "  \\end{longtabu}\n",
        "    \\begin{tablenotes}\n",
        "    \\scriptsize\n",
        "    \\item Footnote for a long table.\n",
        "    \\end{tablenotes}\n",
        "  \\end{ThreePartTable}\n",
        "\n",
        "\\end{landscape}\n"
       ]
      }
     ],
     "prompt_number": 19
    },
    {
     "cell_type": "markdown",
     "metadata": {},
     "source": [
      "Indentation\n",
      "-----------\n",
      "\n",
      "PyTabular tries to indent the tables nicely, however you can eliminate indenting or change the indent width."
     ]
    },
    {
     "cell_type": "code",
     "collapsed": false,
     "input": [
      "longtable.set_indent(0)\n",
      "print(longtable)"
     ],
     "language": "python",
     "metadata": {},
     "outputs": [
      {
       "output_type": "stream",
       "stream": "stdout",
       "text": [
        "\\begin{landscape}\n",
        "\n",
        "\\begin{ThreePartTable}\n",
        "\\begin{longtabu}{cccccc}\n",
        "\n",
        "\\centering \\\\\n",
        "\\captionsetup{singlelinecheck=false,justification=centering}\n",
        "\\caption{Table 1 \\label{table1}} \\\\\n",
        " & \\mc{2}{c}{\\textbf{\\Large{Treated}}} & \\mc{2}{c}{\\textbf{\\Large{Control}}} &  \\\\ \n",
        "\\cmidrule(rl){2-3} \\cmidrule(rl){4-5}\\morecmidrules\\cmidrule(rl){4-5} \n",
        "\n",
        "\\rotatebox{45}{\\emph{Measure}} & \\rotatebox{45}{\\emph{Male}} & \\rotatebox{45}{\\emph{Female}} & \\rotatebox{45}{\\emph{Male}} & \\rotatebox{45}{\\emph{Female}} & \\rotatebox{45}{\\emph{Observations}} \\\\[0.3cm] \n",
        "\\hline \\hline  \n",
        "\n",
        "\\endfirsthead\n",
        "\n",
        "\\mc{6}{c}{\\tablename\\ \\thetable\\ -- \\emph{Continued from previous page}} \\\\\n",
        " & \\mc{2}{c}{\\textbf{\\Large{Treated}}} & \\mc{2}{c}{\\textbf{\\Large{Control}}} &  \\\\ \n",
        "\\cmidrule(rl){2-3} \\cmidrule(rl){4-5}\\morecmidrules\\cmidrule(rl){4-5} \n",
        "\n",
        "\\rotatebox{45}{\\emph{Measure}} & \\rotatebox{45}{\\emph{Male}} & \\rotatebox{45}{\\emph{Female}} & \\rotatebox{45}{\\emph{Male}} & \\rotatebox{45}{\\emph{Female}} & \\rotatebox{45}{\\emph{Observations}} \\\\[0.3cm] \n",
        "\\hline \\hline  \n",
        "\n",
        "\\endhead\n",
        "\n",
        "\\mc{6}{r}{\\emph{Continued on next page}} \\\\\n",
        "\n",
        "\\endfoot\n",
        "\\endlastfoot\n",
        "\n",
        "\\\\[0.3cm]\n",
        "\\mc{1}{l|}{var0} & \\mc{1}{r}{0.190} & \\mc{1}{r}{0.329} & \\mc{1}{r}{-1.992} & \\mc{1}{r}{0.891} & \\mc{1}{r}{79,214} \\\\  \n",
        "\n",
        "\\mc{1}{l|}{var1} & \\mc{1}{r}{0.846} & \\mc{1}{r}{0.276} & \\mc{1}{r}{-0.286} & \\mc{1}{r}{-0.514} & \\mc{1}{r}{13,192} \\\\  \n",
        "\n",
        "\\mc{1}{l|}{var2} & \\mc{1}{r}{-0.093} & \\mc{1}{r}{-0.957} & \\mc{1}{r}{1.051} & \\mc{1}{r}{-0.719} & \\mc{1}{r}{73,758} \\\\  \n",
        "\n",
        "\\mc{1}{l|}{\\cellcolor{gray!40}{var3}} & \\mc{1}{r}{\\cellcolor{gray!40}{0.936}} & \\mc{1}{r}{\\cellcolor{gray!40}{1.488}} & \\mc{1}{r}{\\cellcolor{gray!40}{0.888}} & \\mc{1}{r}{\\cellcolor{gray!40}{0.044}} & \\mc{1}{r}{\\cellcolor{gray!40}{92,436}} \\\\  \n",
        "\n",
        "\\mc{1}{l|}{var4} & \\mc{1}{r}{0.368} & \\mc{1}{r}{0.742} & \\mc{1}{r}{-0.550} & \\mc{1}{r}{-0.038} & \\mc{1}{r}{92,994} \\\\  \n",
        "\n",
        "\\mc{1}{l|}{var5} & \\mc{1}{r}{-0.790} & \\mc{1}{r}{-1.119} & \\mc{1}{r}{-1.240} & \\mc{1}{r}{1.048} & \\mc{1}{r}{57,340} \\\\  \n",
        "\n",
        "\\mc{1}{l|}{var6} & \\mc{1}{r}{0.170} & \\mc{1}{r}{-0.438} & \\mc{1}{r}{1.241} & \\mc{1}{r}{-0.520} & \\mc{1}{r}{47,988} \\\\  \n",
        "\n",
        "\\mc{1}{l|}{var7} & \\mc{1}{r}{-0.618} & \\mc{1}{r}{0.782} & \\mc{1}{r}{-0.480} & \\mc{1}{r}{-0.070} & \\mc{1}{r}{86,725} \\\\  \n",
        "\n",
        "\\mc{1}{l|}{var8} & \\mc{1}{r}{0.928} & \\mc{1}{r}{0.181} & \\mc{1}{r}{-0.461} & \\mc{1}{r}{0.025} & \\mc{1}{r}{18,388} \\\\  \n",
        "\n",
        "\\mc{1}{l|}{var9} & \\mc{1}{r}{0.910} & \\mc{1}{r}{0.978} & \\mc{1}{r}{0.815} & \\mc{1}{r}{-2.057} & \\mc{1}{r}{50,472} \\\\  \n",
        "\n",
        "\\end{longtabu}\n",
        "\\begin{tablenotes}\n",
        "\\scriptsize\n",
        "\\item Footnote for a long table.\n",
        "\\end{tablenotes}\n",
        "\\end{ThreePartTable}\n",
        "\n",
        "\\end{landscape}\n"
       ]
      }
     ],
     "prompt_number": 20
    },
    {
     "cell_type": "code",
     "collapsed": false,
     "input": [
      "longtable.set_indent(4)\n",
      "print(longtable)"
     ],
     "language": "python",
     "metadata": {},
     "outputs": [
      {
       "output_type": "stream",
       "stream": "stdout",
       "text": [
        "\\begin{landscape}\n",
        "\n",
        "    \\begin{ThreePartTable}\n",
        "    \\begin{longtabu}{cccccc}\n",
        "\n",
        "        \\centering \\\\\n",
        "        \\captionsetup{singlelinecheck=false,justification=centering}\n",
        "        \\caption{Table 1 \\label{table1}} \\\\\n",
        "         & \\mc{2}{c}{\\textbf{\\Large{Treated}}} & \\mc{2}{c}{\\textbf{\\Large{Control}}} &  \\\\ \n",
        "        \\cmidrule(rl){2-3} \\cmidrule(rl){4-5}\\morecmidrules\\cmidrule(rl){4-5} \n",
        "\n",
        "        \\rotatebox{45}{\\emph{Measure}} & \\rotatebox{45}{\\emph{Male}} & \\rotatebox{45}{\\emph{Female}} & \\rotatebox{45}{\\emph{Male}} & \\rotatebox{45}{\\emph{Female}} & \\rotatebox{45}{\\emph{Observations}} \\\\[0.3cm] \n",
        "        \\hline \\hline  \n",
        "\n",
        "        \\endfirsthead\n",
        "\n",
        "        \\mc{6}{c}{\\tablename\\ \\thetable\\ -- \\emph{Continued from previous page}} \\\\\n",
        "         & \\mc{2}{c}{\\textbf{\\Large{Treated}}} & \\mc{2}{c}{\\textbf{\\Large{Control}}} &  \\\\ \n",
        "        \\cmidrule(rl){2-3} \\cmidrule(rl){4-5}\\morecmidrules\\cmidrule(rl){4-5} \n",
        "\n",
        "        \\rotatebox{45}{\\emph{Measure}} & \\rotatebox{45}{\\emph{Male}} & \\rotatebox{45}{\\emph{Female}} & \\rotatebox{45}{\\emph{Male}} & \\rotatebox{45}{\\emph{Female}} & \\rotatebox{45}{\\emph{Observations}} \\\\[0.3cm] \n",
        "        \\hline \\hline  \n",
        "\n",
        "        \\endhead\n",
        "\n",
        "        \\mc{6}{r}{\\emph{Continued on next page}} \\\\\n",
        "\n",
        "        \\endfoot\n",
        "        \\endlastfoot\n",
        "\n",
        "        \\\\[0.3cm]\n",
        "        \\mc{1}{l|}{var0} & \\mc{1}{r}{0.190} & \\mc{1}{r}{0.329} & \\mc{1}{r}{-1.992} & \\mc{1}{r}{0.891} & \\mc{1}{r}{79,214} \\\\  \n",
        "\n",
        "        \\mc{1}{l|}{var1} & \\mc{1}{r}{0.846} & \\mc{1}{r}{0.276} & \\mc{1}{r}{-0.286} & \\mc{1}{r}{-0.514} & \\mc{1}{r}{13,192} \\\\  \n",
        "\n",
        "        \\mc{1}{l|}{var2} & \\mc{1}{r}{-0.093} & \\mc{1}{r}{-0.957} & \\mc{1}{r}{1.051} & \\mc{1}{r}{-0.719} & \\mc{1}{r}{73,758} \\\\  \n",
        "\n",
        "        \\mc{1}{l|}{\\cellcolor{gray!40}{var3}} & \\mc{1}{r}{\\cellcolor{gray!40}{0.936}} & \\mc{1}{r}{\\cellcolor{gray!40}{1.488}} & \\mc{1}{r}{\\cellcolor{gray!40}{0.888}} & \\mc{1}{r}{\\cellcolor{gray!40}{0.044}} & \\mc{1}{r}{\\cellcolor{gray!40}{92,436}} \\\\  \n",
        "\n",
        "        \\mc{1}{l|}{var4} & \\mc{1}{r}{0.368} & \\mc{1}{r}{0.742} & \\mc{1}{r}{-0.550} & \\mc{1}{r}{-0.038} & \\mc{1}{r}{92,994} \\\\  \n",
        "\n",
        "        \\mc{1}{l|}{var5} & \\mc{1}{r}{-0.790} & \\mc{1}{r}{-1.119} & \\mc{1}{r}{-1.240} & \\mc{1}{r}{1.048} & \\mc{1}{r}{57,340} \\\\  \n",
        "\n",
        "        \\mc{1}{l|}{var6} & \\mc{1}{r}{0.170} & \\mc{1}{r}{-0.438} & \\mc{1}{r}{1.241} & \\mc{1}{r}{-0.520} & \\mc{1}{r}{47,988} \\\\  \n",
        "\n",
        "        \\mc{1}{l|}{var7} & \\mc{1}{r}{-0.618} & \\mc{1}{r}{0.782} & \\mc{1}{r}{-0.480} & \\mc{1}{r}{-0.070} & \\mc{1}{r}{86,725} \\\\  \n",
        "\n",
        "        \\mc{1}{l|}{var8} & \\mc{1}{r}{0.928} & \\mc{1}{r}{0.181} & \\mc{1}{r}{-0.461} & \\mc{1}{r}{0.025} & \\mc{1}{r}{18,388} \\\\  \n",
        "\n",
        "        \\mc{1}{l|}{var9} & \\mc{1}{r}{0.910} & \\mc{1}{r}{0.978} & \\mc{1}{r}{0.815} & \\mc{1}{r}{-2.057} & \\mc{1}{r}{50,472} \\\\  \n",
        "\n",
        "    \\end{longtabu}\n",
        "        \\begin{tablenotes}\n",
        "        \\scriptsize\n",
        "        \\item Footnote for a long table.\n",
        "        \\end{tablenotes}\n",
        "    \\end{ThreePartTable}\n",
        "\n",
        "\\end{landscape}\n"
       ]
      }
     ],
     "prompt_number": 21
    },
    {
     "cell_type": "markdown",
     "metadata": {},
     "source": [
      "Advanced Merging\n",
      "----------------\n",
      "\n",
      "We can merge across rows and columns simultaneously. In LateX, these means nesting `\\multirow` with `\\multicolumn`. Lets modify the last two rows of `table` to demonstrate. In this exercise, lets change the last two rows as if we wanted them to display a fit statistic. "
     ]
    },
    {
     "cell_type": "code",
     "collapsed": false,
     "input": [
      "table[-2,0].set_content('$R^2$') #changing the content cell in the 2nd to last row, first column\n",
      "table[-2:,0].merge(force=True) #merging over contents (must specify force=True)\n",
      "table[-2:,1:].merge(force=True) #merging the data together (across rows and columns)\n",
      "table[-2,1].set_alignment('c')\n",
      "print(table)"
     ],
     "language": "python",
     "metadata": {},
     "outputs": [
      {
       "output_type": "stream",
       "stream": "stdout",
       "text": [
        "\\begin{table}\\raggedright\n",
        "\\captionsetup{singlelinecheck=false,justification=raggedright}\n",
        "\\caption{A Table with Numbers \\label{tab:table1}}\n",
        "\n",
        "  \\begin{ThreePartTable}\n",
        "  \\begin{tabu}{cccccc}\n",
        "\n",
        "     & \\mc{2}{c}{\\textbf{\\Large{Treated}}} & \\mc{2}{c}{\\textbf{\\Large{Control}}} &  \\\\ \n",
        "    \\cmidrule(rl){2-3} \\cmidrule(rl){4-5}\\morecmidrules\\cmidrule(rl){4-5} \n",
        "\n",
        "    \\rotatebox{45}{\\emph{Measure}} & \\rotatebox{45}{\\emph{Male}} & \\rotatebox{45}{\\emph{Female}} & \\rotatebox{45}{\\emph{Male}} & \\rotatebox{45}{\\emph{Female}} & \\rotatebox{45}{\\emph{Observations}} \\\\[0.3cm] \n",
        "    \\hline \\hline  \n",
        "\n",
        "    \\\\[0.3cm]\n",
        "    \\mc{1}{l|}{var0} & \\mc{1}{r}{0.190} & \\mc{1}{r}{0.329} & \\mc{1}{r}{-1.992} & \\mc{1}{r}{0.891} & \\mc{1}{r}{79,214} \\\\  \n",
        "\n",
        "    \\mc{1}{l|}{var1} & \\mc{1}{r}{0.846} & \\mc{1}{r}{0.276} & \\mc{1}{r}{-0.286} & \\mc{1}{r}{-0.514} & \\mc{1}{r}{13,192} \\\\  \n",
        "\n",
        "    \\mc{1}{l|}{var2} & \\mc{1}{r}{-0.093} & \\mc{1}{r}{-0.957} & \\mc{1}{r}{1.051} & \\mc{1}{r}{-0.719} & \\mc{1}{r}{73,758} \\\\  \n",
        "\n",
        "    \\mc{1}{l|}{\\cellcolor{gray!40}{var3}} & \\mc{1}{r}{\\cellcolor{gray!40}{0.936}} & \\mc{1}{r}{\\cellcolor{gray!40}{1.488}} & \\mc{1}{r}{\\cellcolor{gray!40}{0.888}} & \\mc{1}{r}{\\cellcolor{gray!40}{0.044}} & \\mc{1}{r}{\\cellcolor{gray!40}{92,436}} \\\\  \n",
        "\n",
        "    \\mc{1}{l|}{var4} & \\mc{1}{r}{0.368} & \\mc{1}{r}{0.742} & \\mc{1}{r}{-0.550} & \\mc{1}{r}{-0.038} & \\mc{1}{r}{92,994} \\\\  \n",
        "\n",
        "    \\mc{1}{l|}{var5} & \\mc{1}{r}{-0.790} & \\mc{1}{r}{-1.119} & \\mc{1}{r}{-1.240} & \\mc{1}{r}{1.048} & \\mc{1}{r}{57,340} \\\\  \n",
        "\n",
        "    \\mc{1}{l|}{var6} & \\mc{1}{r}{0.170} & \\mc{1}{r}{-0.438} & \\mc{1}{r}{1.241} & \\mc{1}{r}{-0.520} & \\mc{1}{r}{47,988} \\\\  \n",
        "\n",
        "    \\mc{1}{l|}{var7} & \\mc{1}{r}{-0.618} & \\mc{1}{r}{0.782} & \\mc{1}{r}{-0.480} & \\mc{1}{r}{-0.070} & \\mc{1}{r}{86,725} \\\\  \n",
        "\n",
        "    \\mc{1}{l|}{\\mr{2}{*}{$R^2$}} & \\mc{5}{c}{\\mr{2}{*}{0.928}} \\\\  \n",
        "\n",
        "    \\mc{1}{l|}{} & \\mc{5}{r}{} \\\\  \n",
        "\n",
        "  \\end{tabu}\n",
        "    \\begin{tablenotes}\n",
        "    \\scriptsize\n",
        "    \\item This is a footnote\n",
        "    \\item This is another footnote\n",
        "    \\item [1]This footnote has a superscript\n",
        "    \\end{tablenotes}\n",
        "  \\end{ThreePartTable}\n",
        "\n",
        "\\end{table}\n"
       ]
      }
     ],
     "prompt_number": 22
    }
   ],
   "metadata": {}
  }
 ]
}