{
 "metadata": {
  "name": ""
 },
 "nbformat": 3,
 "nbformat_minor": 0,
 "worksheets": [
  {
   "cells": [
    {
     "cell_type": "markdown",
     "metadata": {},
     "source": [
      "PyTabular Tutorial\n",
      "------------------"
     ]
    },
    {
     "cell_type": "markdown",
     "metadata": {},
     "source": [
      "Getting Started\n",
      "---------------\n",
      "First we will import the PyTabular package in addition to numpy for generating data."
     ]
    },
    {
     "cell_type": "code",
     "collapsed": false,
     "input": [
      "import pytabular as pytab\n",
      "import numpy as np"
     ],
     "language": "python",
     "metadata": {},
     "outputs": [],
     "prompt_number": 1
    },
    {
     "cell_type": "markdown",
     "metadata": {},
     "source": [
      "Next, we will create some data. The data will be a list of rows, which are themselves lists. We could also have made these an array or dataframe. Each element in the row will be a cell in the table."
     ]
    },
    {
     "cell_type": "code",
     "collapsed": false,
     "input": [
      "header = [['', 'Treated', '', 'Control', ''],\n",
      "          ['Measure', 'Male', 'Female', 'Male', 'Female']]\n",
      "measures = ['var{}'.format(i) for i in xrange(10)]\n",
      "data = np.random.randn(10,4).tolist()\n",
      "data = [[measures[i]] + data[i] for i in xrange(10)]\n",
      "data = header + data\n",
      "for row in data:\n",
      "    print(row)"
     ],
     "language": "python",
     "metadata": {},
     "outputs": [
      {
       "output_type": "stream",
       "stream": "stdout",
       "text": [
        "['', 'Treated', '', 'Control', '']\n",
        "['Measure', 'Male', 'Female', 'Male', 'Female']\n",
        "['var0', -0.5167002846669395, 0.8792991702381884, -0.23458760961617128, -1.170934450548481]\n",
        "['var1', 1.2766874170491465, -2.388787508406037, 0.14478016347766892, -0.698051209764256]\n",
        "['var2', -0.917911618638518, -0.48691612442474386, 1.6154905671266235, 0.668942725639134]\n",
        "['var3', -0.3980033341023787, 0.2572670032448797, -0.6501461980831177, -0.04094791588482208]\n",
        "['var4', -0.04105450501464532, 0.7550309621974881, 1.880057958928697, -0.6309391852547932]\n",
        "['var5', -2.042543228621894, -0.7847901021976253, -0.7161952485694157, 0.18595671706568329]\n",
        "['var6', 1.230211159320553, 0.5667037845827531, 0.48070439857258684, -0.4797530876173052]\n",
        "['var7', -0.5664050146523703, 1.738603705363104, 0.31496306003262386, -0.855603924247631]\n",
        "['var8', 1.04475665654782, 0.5269310565689413, -0.3867085756799248, 1.6695958326249065]\n",
        "['var9', -0.2393961663716263, -0.3602267115352322, 1.1220530606403945, -0.18108505711027828]\n"
       ]
      }
     ],
     "prompt_number": 2
    },
    {
     "cell_type": "markdown",
     "metadata": {},
     "source": [
      "Creating a PyTabular object from this data is easy. From there, we can manipulate the table to customize the layout and look of the cells."
     ]
    },
    {
     "cell_type": "code",
     "collapsed": false,
     "input": [
      "tabular = pytab.Tabular(data)\n",
      "print('Shape:', tabular.shape)\n",
      "print(tabular)"
     ],
     "language": "python",
     "metadata": {},
     "outputs": [
      {
       "output_type": "stream",
       "stream": "stdout",
       "text": [
        "('Shape:', (12, 5))\n",
        "\\begin{ThreePartTable}\n",
        "\\begin{tabu}{ccccc}\n",
        "\n",
        "   & Treated &  & Control &  \\\\  \n",
        "\n",
        "  Measure & Male & Female & Male & Female \\\\  \n",
        "\n",
        "  var0 & -0.516700284667 & 0.879299170238 & -0.234587609616 & -1.17093445055 \\\\  \n",
        "\n",
        "  var1 & 1.27668741705 & -2.38878750841 & 0.144780163478 & -0.698051209764 \\\\  \n",
        "\n",
        "  var2 & -0.917911618639 & -0.486916124425 & 1.61549056713 & 0.668942725639 \\\\  \n",
        "\n",
        "  var3 & -0.398003334102 & 0.257267003245 & -0.650146198083 & -0.0409479158848 \\\\  \n",
        "\n",
        "  var4 & -0.0410545050146 & 0.755030962197 & 1.88005795893 & -0.630939185255 \\\\  \n",
        "\n",
        "  var5 & -2.04254322862 & -0.784790102198 & -0.716195248569 & 0.185956717066 \\\\  \n",
        "\n",
        "  var6 & 1.23021115932 & 0.566703784583 & 0.480704398573 & -0.479753087617 \\\\  \n",
        "\n",
        "  var7 & -0.566405014652 & 1.73860370536 & 0.314963060033 & -0.855603924248 \\\\  \n",
        "\n",
        "  var8 & 1.04475665655 & 0.526931056569 & -0.38670857568 & 1.66959583262 \\\\  \n",
        "\n",
        "  var9 & -0.239396166372 & -0.360226711535 & 1.12205306064 & -0.18108505711 \\\\  \n",
        "\n",
        "\\end{tabu}\n",
        "\\end{ThreePartTable}\n"
       ]
      }
     ],
     "prompt_number": 3
    },
    {
     "cell_type": "markdown",
     "metadata": {},
     "source": [
      "Operating on the Table\n",
      "----------------------\n",
      "Operate on the table using methods. Methods will either operate on the whole table or on the specific selection you make from the table. Make a selection using Python's slice syntax. Some examples include:\n",
      "\n",
      "- Select the cell in the upper-left:\n",
      "    \n",
      "    `tabular[0,0]`\n",
      "    \n",
      "- Select the 2nd row:\n",
      "\n",
      "    `tabular[1]`\n",
      "    \n",
      "- Select the 1st column:\n",
      "\n",
      "    `tabular[:,0]`\n",
      "    \n",
      "- Select cells in the first row, the 2nd column to the last:\n",
      "\n",
      "    `tabular[:,1:]`\n",
      "    \n",
      "- Select cells in the 3rd column, from the 2nd to the 4th row:\n",
      "\n",
      "    `tabular[1:4,2]`\n",
      "\n",
      "Built-in methods either operate by-cell or to the table. Table methods, like `set_tab_alignment` operate on the whole table and should not be used on a selection. Other methods, like `set_bold` and `merge` operate on selections of the table. `set_bold` does the same thing to each cell in the selection. However, `merge` is a special function which we will explore next. "
     ]
    },
    {
     "cell_type": "markdown",
     "metadata": {},
     "source": [
      "Merging Cells in the Header\n",
      "---------------------------\n",
      "\n",
      "\n",
      "    \n",
      "-   Take a table, or a selection from a table and merge the selected cells together. The content for the merged block is taken from\n",
      "    the cell in the upper-left. All operations on this merged cell should be applied to the cell in\n",
      "    this upper-left location."
     ]
    },
    {
     "cell_type": "code",
     "collapsed": false,
     "input": [
      "tabular[0,1:3].merge() #merges cells in row 0, columns 1 and 2\n",
      "tabular[0,3:].merge() #merges cells in row 0, columns 3 and 4\n",
      "print(tabular)"
     ],
     "language": "python",
     "metadata": {},
     "outputs": [
      {
       "output_type": "stream",
       "stream": "stdout",
       "text": [
        "\\begin{ThreePartTable}\n",
        "\\begin{tabu}{ccccc}\n",
        "\n",
        "   & \\mc{2}{c}{Treated} & \\mc{2}{c}{Control} \\\\  \n",
        "\n",
        "  Measure & Male & Female & Male & Female \\\\  \n",
        "\n",
        "  var0 & -0.516700284667 & 0.879299170238 & -0.234587609616 & -1.17093445055 \\\\  \n",
        "\n",
        "  var1 & 1.27668741705 & -2.38878750841 & 0.144780163478 & -0.698051209764 \\\\  \n",
        "\n",
        "  var2 & -0.917911618639 & -0.486916124425 & 1.61549056713 & 0.668942725639 \\\\  \n",
        "\n",
        "  var3 & -0.398003334102 & 0.257267003245 & -0.650146198083 & -0.0409479158848 \\\\  \n",
        "\n",
        "  var4 & -0.0410545050146 & 0.755030962197 & 1.88005795893 & -0.630939185255 \\\\  \n",
        "\n",
        "  var5 & -2.04254322862 & -0.784790102198 & -0.716195248569 & 0.185956717066 \\\\  \n",
        "\n",
        "  var6 & 1.23021115932 & 0.566703784583 & 0.480704398573 & -0.479753087617 \\\\  \n",
        "\n",
        "  var7 & -0.566405014652 & 1.73860370536 & 0.314963060033 & -0.855603924248 \\\\  \n",
        "\n",
        "  var8 & 1.04475665655 & 0.526931056569 & -0.38670857568 & 1.66959583262 \\\\  \n",
        "\n",
        "  var9 & -0.239396166372 & -0.360226711535 & 1.12205306064 & -0.18108505711 \\\\  \n",
        "\n",
        "\\end{tabu}\n",
        "\\end{ThreePartTable}\n"
       ]
      }
     ],
     "prompt_number": 4
    },
    {
     "cell_type": "markdown",
     "metadata": {},
     "source": [
      "Now let's add some horizontal lines with `set_lines` option. `set_lines(lines, narrow)` takes two parameters:\n",
      "\n",
      "- lines: number of lines to place below\n",
      "\n",
      "-   narrow: a string to tell cmidrule whether or not to shorten the line on either side of the\n",
      "    cell, use 'r' to shorten on the right, 'l' for left and 'lr' on both\n",
      "\n",
      "When using `set_lines` on merged cells, will produce a horizontal line extending across all of the cells merged together."
     ]
    },
    {
     "cell_type": "code",
     "collapsed": false,
     "input": [
      "tabular[0,1:3].set_lines(lines=1, narrow='lr')\n",
      "tabular[0,3:].set_lines(lines=2, narrow='lr')\n",
      "print(tabular)"
     ],
     "language": "python",
     "metadata": {},
     "outputs": [
      {
       "output_type": "stream",
       "stream": "stdout",
       "text": [
        "\\begin{ThreePartTable}\n",
        "\\begin{tabu}{ccccc}\n",
        "\n",
        "   & \\mc{2}{c}{Treated} & \\mc{2}{c}{Control} \\\\ \n",
        "  \\cmidrule(lr){2-3} \\cmidrule(lr){4-5}\\morecmidrules\\cmidrule(lr){4-5} \n",
        "\n",
        "  Measure & Male & Female & Male & Female \\\\  \n",
        "\n",
        "  var0 & -0.516700284667 & 0.879299170238 & -0.234587609616 & -1.17093445055 \\\\  \n",
        "\n",
        "  var1 & 1.27668741705 & -2.38878750841 & 0.144780163478 & -0.698051209764 \\\\  \n",
        "\n",
        "  var2 & -0.917911618639 & -0.486916124425 & 1.61549056713 & 0.668942725639 \\\\  \n",
        "\n",
        "  var3 & -0.398003334102 & 0.257267003245 & -0.650146198083 & -0.0409479158848 \\\\  \n",
        "\n",
        "  var4 & -0.0410545050146 & 0.755030962197 & 1.88005795893 & -0.630939185255 \\\\  \n",
        "\n",
        "  var5 & -2.04254322862 & -0.784790102198 & -0.716195248569 & 0.185956717066 \\\\  \n",
        "\n",
        "  var6 & 1.23021115932 & 0.566703784583 & 0.480704398573 & -0.479753087617 \\\\  \n",
        "\n",
        "  var7 & -0.566405014652 & 1.73860370536 & 0.314963060033 & -0.855603924248 \\\\  \n",
        "\n",
        "  var8 & 1.04475665655 & 0.526931056569 & -0.38670857568 & 1.66959583262 \\\\  \n",
        "\n",
        "  var9 & -0.239396166372 & -0.360226711535 & 1.12205306064 & -0.18108505711 \\\\  \n",
        "\n",
        "\\end{tabu}\n",
        "\\end{ThreePartTable}\n"
       ]
      }
     ],
     "prompt_number": 5
    },
    {
     "cell_type": "markdown",
     "metadata": {},
     "source": [
      "And we will add a horizontal line below the 2nd row."
     ]
    },
    {
     "cell_type": "code",
     "collapsed": false,
     "input": [
      "tabular[1].set_lines(2)\n",
      "print(tabular)"
     ],
     "language": "python",
     "metadata": {},
     "outputs": [
      {
       "output_type": "stream",
       "stream": "stdout",
       "text": [
        "\\begin{ThreePartTable}\n",
        "\\begin{tabu}{ccccc}\n",
        "\n",
        "   & \\mc{2}{c}{Treated} & \\mc{2}{c}{Control} \\\\ \n",
        "  \\cmidrule(lr){2-3} \\cmidrule(lr){4-5}\\morecmidrules\\cmidrule(lr){4-5} \n",
        "\n",
        "  Measure & Male & Female & Male & Female \\\\ \n",
        "  \\hline \\hline  \n",
        "\n",
        "  var0 & -0.516700284667 & 0.879299170238 & -0.234587609616 & -1.17093445055 \\\\  \n",
        "\n",
        "  var1 & 1.27668741705 & -2.38878750841 & 0.144780163478 & -0.698051209764 \\\\  \n",
        "\n",
        "  var2 & -0.917911618639 & -0.486916124425 & 1.61549056713 & 0.668942725639 \\\\  \n",
        "\n",
        "  var3 & -0.398003334102 & 0.257267003245 & -0.650146198083 & -0.0409479158848 \\\\  \n",
        "\n",
        "  var4 & -0.0410545050146 & 0.755030962197 & 1.88005795893 & -0.630939185255 \\\\  \n",
        "\n",
        "  var5 & -2.04254322862 & -0.784790102198 & -0.716195248569 & 0.185956717066 \\\\  \n",
        "\n",
        "  var6 & 1.23021115932 & 0.566703784583 & 0.480704398573 & -0.479753087617 \\\\  \n",
        "\n",
        "  var7 & -0.566405014652 & 1.73860370536 & 0.314963060033 & -0.855603924248 \\\\  \n",
        "\n",
        "  var8 & 1.04475665655 & 0.526931056569 & -0.38670857568 & 1.66959583262 \\\\  \n",
        "\n",
        "  var9 & -0.239396166372 & -0.360226711535 & 1.12205306064 & -0.18108505711 \\\\  \n",
        "\n",
        "\\end{tabu}\n",
        "\\end{ThreePartTable}\n"
       ]
      }
     ],
     "prompt_number": 6
    },
    {
     "cell_type": "markdown",
     "metadata": {},
     "source": [
      "Custom Formatters\n",
      "-----------------\n",
      "As-is, the data in the cells is shown with too many significant digits and it is overwhelming. While we allow the user to pass in any formatter (a function which takes a cell value and returns a formatted value as a string), we provide some built-in formatters:\n",
      "\n",
      "- `set_digits` sets the number of significant digits displayed in cells"
     ]
    },
    {
     "cell_type": "code",
     "collapsed": false,
     "input": [
      "tabular[2:,1:].set_digits(3)\n",
      "print(tabular)"
     ],
     "language": "python",
     "metadata": {},
     "outputs": [
      {
       "output_type": "stream",
       "stream": "stdout",
       "text": [
        "\\begin{ThreePartTable}\n",
        "\\begin{tabu}{ccccc}\n",
        "\n",
        "   & \\mc{2}{c}{Treated} & \\mc{2}{c}{Control} \\\\ \n",
        "  \\cmidrule(lr){2-3} \\cmidrule(lr){4-5}\\morecmidrules\\cmidrule(lr){4-5} \n",
        "\n",
        "  Measure & Male & Female & Male & Female \\\\ \n",
        "  \\hline \\hline  \n",
        "\n",
        "  var0 & -0.517 & 0.879 & -0.235 & -1.171 \\\\  \n",
        "\n",
        "  var1 & 1.277 & -2.389 & 0.145 & -0.698 \\\\  \n",
        "\n",
        "  var2 & -0.918 & -0.487 & 1.615 & 0.669 \\\\  \n",
        "\n",
        "  var3 & -0.398 & 0.257 & -0.650 & -0.041 \\\\  \n",
        "\n",
        "  var4 & -0.041 & 0.755 & 1.880 & -0.631 \\\\  \n",
        "\n",
        "  var5 & -2.043 & -0.785 & -0.716 & 0.186 \\\\  \n",
        "\n",
        "  var6 & 1.230 & 0.567 & 0.481 & -0.480 \\\\  \n",
        "\n",
        "  var7 & -0.566 & 1.739 & 0.315 & -0.856 \\\\  \n",
        "\n",
        "  var8 & 1.045 & 0.527 & -0.387 & 1.670 \\\\  \n",
        "\n",
        "  var9 & -0.239 & -0.360 & 1.122 & -0.181 \\\\  \n",
        "\n",
        "\\end{tabu}\n",
        "\\end{ThreePartTable}\n"
       ]
      }
     ],
     "prompt_number": 7
    },
    {
     "cell_type": "markdown",
     "metadata": {},
     "source": [
      "Adding Data\n",
      "-----------\n",
      "What if we have data from another table that we want to include? Let's say we forgot to include an observations column. "
     ]
    },
    {
     "cell_type": "code",
     "collapsed": false,
     "input": [
      "# obs = a column of data we forgot about\n",
      "obs = np.array(['', 'Observations'] + np.random.randint(500, 100000, 10).tolist()).reshape((-1,1))\n",
      "add = pytab.Tabular(obs)\n",
      "print(add.shape)\n",
      "print(tabular.shape)"
     ],
     "language": "python",
     "metadata": {},
     "outputs": [
      {
       "output_type": "stream",
       "stream": "stdout",
       "text": [
        "(12, 1)\n",
        "(12, 5)\n"
       ]
      }
     ],
     "prompt_number": 8
    },
    {
     "cell_type": "markdown",
     "metadata": {},
     "source": [
      "We will use `hstack` to stack additional columns to the right of our previous table. NOTE: Use `vstack` to tack on an additional row."
     ]
    },
    {
     "cell_type": "code",
     "collapsed": false,
     "input": [
      "newtabular = pytab.hstack(tabular, add)\n",
      "print(newtabular)"
     ],
     "language": "python",
     "metadata": {},
     "outputs": [
      {
       "output_type": "stream",
       "stream": "stdout",
       "text": [
        "\\begin{ThreePartTable}\n",
        "\\begin{tabu}{cccccc}\n",
        "\n",
        "   & Treated &  & Control &  &  \\\\  \n",
        "\n",
        "  Measure & Male & Female & Male & Female & Observations \\\\  \n",
        "\n",
        "  var0 & -0.516700284667 & 0.879299170238 & -0.234587609616 & -1.17093445055 & 28310 \\\\  \n",
        "\n",
        "  var1 & 1.27668741705 & -2.38878750841 & 0.144780163478 & -0.698051209764 & 81208 \\\\  \n",
        "\n",
        "  var2 & -0.917911618639 & -0.486916124425 & 1.61549056713 & 0.668942725639 & 63223 \\\\  \n",
        "\n",
        "  var3 & -0.398003334102 & 0.257267003245 & -0.650146198083 & -0.0409479158848 & 22335 \\\\  \n",
        "\n",
        "  var4 & -0.0410545050146 & 0.755030962197 & 1.88005795893 & -0.630939185255 & 41208 \\\\  \n",
        "\n",
        "  var5 & -2.04254322862 & -0.784790102198 & -0.716195248569 & 0.185956717066 & 24782 \\\\  \n",
        "\n",
        "  var6 & 1.23021115932 & 0.566703784583 & 0.480704398573 & -0.479753087617 & 43490 \\\\  \n",
        "\n",
        "  var7 & -0.566405014652 & 1.73860370536 & 0.314963060033 & -0.855603924248 & 39933 \\\\  \n",
        "\n",
        "  var8 & 1.04475665655 & 0.526931056569 & -0.38670857568 & 1.66959583262 & 63132 \\\\  \n",
        "\n",
        "  var9 & -0.239396166372 & -0.360226711535 & 1.12205306064 & -0.18108505711 & 56453 \\\\  \n",
        "\n",
        "\\end{tabu}\n",
        "\\end{ThreePartTable}\n"
       ]
      }
     ],
     "prompt_number": 9
    },
    {
     "cell_type": "markdown",
     "metadata": {},
     "source": [
      "Notice that all of the formatting we have just done has gone away. The cells have reverted to their default values so as to not cause any conflicts with data in the cells. Its a good idea then to add tables before you do formatting. We can repeat all of the previous steps."
     ]
    },
    {
     "cell_type": "code",
     "collapsed": false,
     "input": [
      "newtabular[0,1:3].merge() #merges cells in row 0, columns 1 and 2\n",
      "newtabular[0,3:-1].merge() #merges cells in row 0, columns 3 and 4\n",
      "newtabular[0,1:3].set_lines(lines=1, narrow='lr')\n",
      "newtabular[0,3:-1].set_lines(lines=2, narrow='lr')\n",
      "newtabular[1].set_lines(2)\n",
      "newtabular[2:,1:-1].set_digits(3)\n",
      "print(newtabular)"
     ],
     "language": "python",
     "metadata": {},
     "outputs": [
      {
       "output_type": "stream",
       "stream": "stdout",
       "text": [
        "\\begin{ThreePartTable}\n",
        "\\begin{tabu}{cccccc}\n",
        "\n",
        "   & \\mc{2}{c}{Treated} & \\mc{2}{c}{Control} &  \\\\ \n",
        "  \\cmidrule(lr){2-3} \\cmidrule(lr){4-5}\\morecmidrules\\cmidrule(lr){4-5} \n",
        "\n",
        "  Measure & Male & Female & Male & Female & Observations \\\\ \n",
        "  \\hline \\hline  \n",
        "\n",
        "  var0 & -0.517 & 0.879 & -0.235 & -1.171 & 28310 \\\\  \n",
        "\n",
        "  var1 & 1.277 & -2.389 & 0.145 & -0.698 & 81208 \\\\  \n",
        "\n",
        "  var2 & -0.918 & -0.487 & 1.615 & 0.669 & 63223 \\\\  \n",
        "\n",
        "  var3 & -0.398 & 0.257 & -0.650 & -0.041 & 22335 \\\\  \n",
        "\n",
        "  var4 & -0.041 & 0.755 & 1.880 & -0.631 & 41208 \\\\  \n",
        "\n",
        "  var5 & -2.043 & -0.785 & -0.716 & 0.186 & 24782 \\\\  \n",
        "\n",
        "  var6 & 1.230 & 0.567 & 0.481 & -0.480 & 43490 \\\\  \n",
        "\n",
        "  var7 & -0.566 & 1.739 & 0.315 & -0.856 & 39933 \\\\  \n",
        "\n",
        "  var8 & 1.045 & 0.527 & -0.387 & 1.670 & 63132 \\\\  \n",
        "\n",
        "  var9 & -0.239 & -0.360 & 1.122 & -0.181 & 56453 \\\\  \n",
        "\n",
        "\\end{tabu}\n",
        "\\end{ThreePartTable}\n"
       ]
      }
     ],
     "prompt_number": 10
    },
    {
     "cell_type": "markdown",
     "metadata": {},
     "source": [
      "But notice that the right-most column contains very large integers. Included in PyTabular is a formatter for integers. Let's try it out! Remember you can define your own custom formatters use the `set_formatter` as well."
     ]
    },
    {
     "cell_type": "code",
     "collapsed": false,
     "input": [
      "newtabular[2:,-1].set_formatter(pytab.format_int)\n",
      "print(newtabular)"
     ],
     "language": "python",
     "metadata": {},
     "outputs": [
      {
       "output_type": "stream",
       "stream": "stdout",
       "text": [
        "\\begin{ThreePartTable}\n",
        "\\begin{tabu}{cccccc}\n",
        "\n",
        "   & \\mc{2}{c}{Treated} & \\mc{2}{c}{Control} &  \\\\ \n",
        "  \\cmidrule(lr){2-3} \\cmidrule(lr){4-5}\\morecmidrules\\cmidrule(lr){4-5} \n",
        "\n",
        "  Measure & Male & Female & Male & Female & Observations \\\\ \n",
        "  \\hline \\hline  \n",
        "\n",
        "  var0 & -0.517 & 0.879 & -0.235 & -1.171 & 28,310 \\\\  \n",
        "\n",
        "  var1 & 1.277 & -2.389 & 0.145 & -0.698 & 81,208 \\\\  \n",
        "\n",
        "  var2 & -0.918 & -0.487 & 1.615 & 0.669 & 63,223 \\\\  \n",
        "\n",
        "  var3 & -0.398 & 0.257 & -0.650 & -0.041 & 22,335 \\\\  \n",
        "\n",
        "  var4 & -0.041 & 0.755 & 1.880 & -0.631 & 41,208 \\\\  \n",
        "\n",
        "  var5 & -2.043 & -0.785 & -0.716 & 0.186 & 24,782 \\\\  \n",
        "\n",
        "  var6 & 1.230 & 0.567 & 0.481 & -0.480 & 43,490 \\\\  \n",
        "\n",
        "  var7 & -0.566 & 1.739 & 0.315 & -0.856 & 39,933 \\\\  \n",
        "\n",
        "  var8 & 1.045 & 0.527 & -0.387 & 1.670 & 63,132 \\\\  \n",
        "\n",
        "  var9 & -0.239 & -0.360 & 1.122 & -0.181 & 56,453 \\\\  \n",
        "\n",
        "\\end{tabu}\n",
        "\\end{ThreePartTable}\n"
       ]
      }
     ],
     "prompt_number": 11
    },
    {
     "cell_type": "markdown",
     "metadata": {},
     "source": [
      "Exploring the Options\n",
      "---------------------\n",
      "\n",
      "PyTabular contains many methods for customizing the look of your tables. Using a method on a table selection will apply that method to all of the cells in the selection.\n",
      "\n",
      "- bold cells with `set_bold`\n",
      "- emphasize (italicize) cells with `set_emph`\n",
      "- set the fontsize of cells with `set_fontsize`\n",
      "- set the color of cells with `set_color`"
     ]
    },
    {
     "cell_type": "code",
     "collapsed": false,
     "input": [
      "newtabular[0].set_bold()  #bolds all cells in first row\n",
      "newtabular[1].set_emph() #italicizes cell in 2nd row\n",
      "newtabular[0].set_fontsize('Large') #Huge fontsize for cells in first row\n",
      "newtabular[2:,1:].set_alignment('r') #right align the cells containing numbers\n",
      "newtabular[2:,0].set_alignment('l|') #left align and add vertical line to right\n",
      "newtabular[5].set_color(color='gray',opacity=40) #highlight the cells in the 6th row \n",
      "newtabular[1].set_rotation(45) #rotate the content in row 2 45 degrees\n",
      "newtabular[1].set_space_below('0.3cm') #puts space below the 2nd row\n",
      "newtabular[2].set_space_above('0.3cm') #puts space above the 3nd row\n",
      "print(newtabular)"
     ],
     "language": "python",
     "metadata": {},
     "outputs": [
      {
       "output_type": "stream",
       "stream": "stdout",
       "text": [
        "\\begin{ThreePartTable}\n",
        "\\begin{tabu}{cccccc}\n",
        "\n",
        "   & \\mc{2}{c}{\\textbf{\\Large{Treated}}} & \\mc{2}{c}{\\textbf{\\Large{Control}}} &  \\\\ \n",
        "  \\cmidrule(lr){2-3} \\cmidrule(lr){4-5}\\morecmidrules\\cmidrule(lr){4-5} \n",
        "\n",
        "  \\rotatebox{45}{\\emph{Measure}} & \\rotatebox{45}{\\emph{Male}} & \\rotatebox{45}{\\emph{Female}} & \\rotatebox{45}{\\emph{Male}} & \\rotatebox{45}{\\emph{Female}} & \\rotatebox{45}{\\emph{Observations}} \\\\[0.3cm] \n",
        "  \\hline \\hline  \n",
        "\n",
        "  \\\\[0.3cm]\n",
        "  \\mc{1}{l|}{var0} & \\mc{1}{r}{-0.517} & \\mc{1}{r}{0.879} & \\mc{1}{r}{-0.235} & \\mc{1}{r}{-1.171} & \\mc{1}{r}{28,310} \\\\  \n",
        "\n",
        "  \\mc{1}{l|}{var1} & \\mc{1}{r}{1.277} & \\mc{1}{r}{-2.389} & \\mc{1}{r}{0.145} & \\mc{1}{r}{-0.698} & \\mc{1}{r}{81,208} \\\\  \n",
        "\n",
        "  \\mc{1}{l|}{var2} & \\mc{1}{r}{-0.918} & \\mc{1}{r}{-0.487} & \\mc{1}{r}{1.615} & \\mc{1}{r}{0.669} & \\mc{1}{r}{63,223} \\\\  \n",
        "\n",
        "  \\mc{1}{l|}{\\cellcolor{gray!40}{var3}} & \\mc{1}{r}{\\cellcolor{gray!40}{-0.398}} & \\mc{1}{r}{\\cellcolor{gray!40}{0.257}} & \\mc{1}{r}{\\cellcolor{gray!40}{-0.650}} & \\mc{1}{r}{\\cellcolor{gray!40}{-0.041}} & \\mc{1}{r}{\\cellcolor{gray!40}{22,335}} \\\\  \n",
        "\n",
        "  \\mc{1}{l|}{var4} & \\mc{1}{r}{-0.041} & \\mc{1}{r}{0.755} & \\mc{1}{r}{1.880} & \\mc{1}{r}{-0.631} & \\mc{1}{r}{41,208} \\\\  \n",
        "\n",
        "  \\mc{1}{l|}{var5} & \\mc{1}{r}{-2.043} & \\mc{1}{r}{-0.785} & \\mc{1}{r}{-0.716} & \\mc{1}{r}{0.186} & \\mc{1}{r}{24,782} \\\\  \n",
        "\n",
        "  \\mc{1}{l|}{var6} & \\mc{1}{r}{1.230} & \\mc{1}{r}{0.567} & \\mc{1}{r}{0.481} & \\mc{1}{r}{-0.480} & \\mc{1}{r}{43,490} \\\\  \n",
        "\n",
        "  \\mc{1}{l|}{var7} & \\mc{1}{r}{-0.566} & \\mc{1}{r}{1.739} & \\mc{1}{r}{0.315} & \\mc{1}{r}{-0.856} & \\mc{1}{r}{39,933} \\\\  \n",
        "\n",
        "  \\mc{1}{l|}{var8} & \\mc{1}{r}{1.045} & \\mc{1}{r}{0.527} & \\mc{1}{r}{-0.387} & \\mc{1}{r}{1.670} & \\mc{1}{r}{63,132} \\\\  \n",
        "\n",
        "  \\mc{1}{l|}{var9} & \\mc{1}{r}{-0.239} & \\mc{1}{r}{-0.360} & \\mc{1}{r}{1.122} & \\mc{1}{r}{-0.181} & \\mc{1}{r}{56,453} \\\\  \n",
        "\n",
        "\\end{tabu}\n",
        "\\end{ThreePartTable}\n"
       ]
      }
     ],
     "prompt_number": 12
    },
    {
     "cell_type": "markdown",
     "metadata": {},
     "source": [
      "Spacing between Columns\n",
      "-----------------------\n",
      "\n",
      "- use the `set_tab_alignment` method"
     ]
    },
    {
     "cell_type": "code",
     "collapsed": false,
     "input": [
      "# Set the spacing between columns by specifying a custom tabular string\n",
      "# i.e. the string \"cccccc\" in \"\\being{tabular}{cccccc}\"\n",
      "newtabular.set_tab_alignment('cp{2cm}p{2cm}p{2cm}p{2cm}p{2cm}')\n",
      "print(newtabular)"
     ],
     "language": "python",
     "metadata": {},
     "outputs": [
      {
       "output_type": "stream",
       "stream": "stdout",
       "text": [
        "\\begin{ThreePartTable}\n",
        "\\begin{tabu}{cp{2cm}p{2cm}p{2cm}p{2cm}p{2cm}}\n",
        "\n",
        "   & \\mc{2}{c}{\\textbf{\\Large{Treated}}} & \\mc{2}{c}{\\textbf{\\Large{Control}}} &  \\\\ \n",
        "  \\cmidrule(lr){2-3} \\cmidrule(lr){4-5}\\morecmidrules\\cmidrule(lr){4-5} \n",
        "\n",
        "  \\rotatebox{45}{\\emph{Measure}} & \\rotatebox{45}{\\emph{Male}} & \\rotatebox{45}{\\emph{Female}} & \\rotatebox{45}{\\emph{Male}} & \\rotatebox{45}{\\emph{Female}} & \\rotatebox{45}{\\emph{Observations}} \\\\[0.3cm] \n",
        "  \\hline \\hline  \n",
        "\n",
        "  \\\\[0.3cm]\n",
        "  \\mc{1}{l|}{var0} & \\mc{1}{r}{-0.517} & \\mc{1}{r}{0.879} & \\mc{1}{r}{-0.235} & \\mc{1}{r}{-1.171} & \\mc{1}{r}{28,310} \\\\  \n",
        "\n",
        "  \\mc{1}{l|}{var1} & \\mc{1}{r}{1.277} & \\mc{1}{r}{-2.389} & \\mc{1}{r}{0.145} & \\mc{1}{r}{-0.698} & \\mc{1}{r}{81,208} \\\\  \n",
        "\n",
        "  \\mc{1}{l|}{var2} & \\mc{1}{r}{-0.918} & \\mc{1}{r}{-0.487} & \\mc{1}{r}{1.615} & \\mc{1}{r}{0.669} & \\mc{1}{r}{63,223} \\\\  \n",
        "\n",
        "  \\mc{1}{l|}{\\cellcolor{gray!40}{var3}} & \\mc{1}{r}{\\cellcolor{gray!40}{-0.398}} & \\mc{1}{r}{\\cellcolor{gray!40}{0.257}} & \\mc{1}{r}{\\cellcolor{gray!40}{-0.650}} & \\mc{1}{r}{\\cellcolor{gray!40}{-0.041}} & \\mc{1}{r}{\\cellcolor{gray!40}{22,335}} \\\\  \n",
        "\n",
        "  \\mc{1}{l|}{var4} & \\mc{1}{r}{-0.041} & \\mc{1}{r}{0.755} & \\mc{1}{r}{1.880} & \\mc{1}{r}{-0.631} & \\mc{1}{r}{41,208} \\\\  \n",
        "\n",
        "  \\mc{1}{l|}{var5} & \\mc{1}{r}{-2.043} & \\mc{1}{r}{-0.785} & \\mc{1}{r}{-0.716} & \\mc{1}{r}{0.186} & \\mc{1}{r}{24,782} \\\\  \n",
        "\n",
        "  \\mc{1}{l|}{var6} & \\mc{1}{r}{1.230} & \\mc{1}{r}{0.567} & \\mc{1}{r}{0.481} & \\mc{1}{r}{-0.480} & \\mc{1}{r}{43,490} \\\\  \n",
        "\n",
        "  \\mc{1}{l|}{var7} & \\mc{1}{r}{-0.566} & \\mc{1}{r}{1.739} & \\mc{1}{r}{0.315} & \\mc{1}{r}{-0.856} & \\mc{1}{r}{39,933} \\\\  \n",
        "\n",
        "  \\mc{1}{l|}{var8} & \\mc{1}{r}{1.045} & \\mc{1}{r}{0.527} & \\mc{1}{r}{-0.387} & \\mc{1}{r}{1.670} & \\mc{1}{r}{63,132} \\\\  \n",
        "\n",
        "  \\mc{1}{l|}{var9} & \\mc{1}{r}{-0.239} & \\mc{1}{r}{-0.360} & \\mc{1}{r}{1.122} & \\mc{1}{r}{-0.181} & \\mc{1}{r}{56,453} \\\\  \n",
        "\n",
        "\\end{tabu}\n",
        "\\end{ThreePartTable}\n"
       ]
      }
     ],
     "prompt_number": 13
    },
    {
     "cell_type": "markdown",
     "metadata": {},
     "source": [
      "Casting as Other Types of Tables\n",
      "--------------------------------\n",
      "Casting as other table types will nest the tabular environment\n",
      "inside a table environment, or, in the case of Longtables, change\n",
      "from the tabu environment to the longtabu environment. \n",
      "\n",
      "In both cases, additional table methods become available. These include `set_caption`, `set_label`, \n",
      "and `set_location`. \n",
      "\n",
      "Table Environments:\n",
      "\n",
      "- Table (LateX `table` environment)\n",
      "- LongTable (LateX `longtabu` environment)\n",
      "    \n",
      "    The `LongTable` class allows the table to overflow on multiple pages.\n",
      "    It has an method `set_repeats` where the user can specify which rows\n",
      "    to repeat on every page."
     ]
    },
    {
     "cell_type": "code",
     "collapsed": false,
     "input": [
      "table = pytab.Table(newtabular)"
     ],
     "language": "python",
     "metadata": {},
     "outputs": [],
     "prompt_number": 14
    },
    {
     "cell_type": "code",
     "collapsed": false,
     "input": [
      "print(table)"
     ],
     "language": "python",
     "metadata": {},
     "outputs": [
      {
       "output_type": "stream",
       "stream": "stdout",
       "text": [
        "\\begin{table}\\centering\n",
        "\\captionsetup{singlelinecheck=false,justification=centering}\n",
        "\\caption{Table 1 \\label{table1}}\n",
        "\n",
        "  \\begin{ThreePartTable}\n",
        "  \\begin{tabu}{cccccc}\n",
        "\n",
        "     & \\mc{2}{c}{\\textbf{\\Large{Treated}}} & \\mc{2}{c}{\\textbf{\\Large{Control}}} &  \\\\ \n",
        "    \\cmidrule(lr){2-3} \\cmidrule(lr){4-5}\\morecmidrules\\cmidrule(lr){4-5} \n",
        "\n",
        "    \\rotatebox{45}{\\emph{Measure}} & \\rotatebox{45}{\\emph{Male}} & \\rotatebox{45}{\\emph{Female}} & \\rotatebox{45}{\\emph{Male}} & \\rotatebox{45}{\\emph{Female}} & \\rotatebox{45}{\\emph{Observations}} \\\\[0.3cm] \n",
        "    \\hline \\hline  \n",
        "\n",
        "    \\\\[0.3cm]\n",
        "    \\mc{1}{l|}{var0} & \\mc{1}{r}{-0.517} & \\mc{1}{r}{0.879} & \\mc{1}{r}{-0.235} & \\mc{1}{r}{-1.171} & \\mc{1}{r}{28,310} \\\\  \n",
        "\n",
        "    \\mc{1}{l|}{var1} & \\mc{1}{r}{1.277} & \\mc{1}{r}{-2.389} & \\mc{1}{r}{0.145} & \\mc{1}{r}{-0.698} & \\mc{1}{r}{81,208} \\\\  \n",
        "\n",
        "    \\mc{1}{l|}{var2} & \\mc{1}{r}{-0.918} & \\mc{1}{r}{-0.487} & \\mc{1}{r}{1.615} & \\mc{1}{r}{0.669} & \\mc{1}{r}{63,223} \\\\  \n",
        "\n",
        "    \\mc{1}{l|}{\\cellcolor{gray!40}{var3}} & \\mc{1}{r}{\\cellcolor{gray!40}{-0.398}} & \\mc{1}{r}{\\cellcolor{gray!40}{0.257}} & \\mc{1}{r}{\\cellcolor{gray!40}{-0.650}} & \\mc{1}{r}{\\cellcolor{gray!40}{-0.041}} & \\mc{1}{r}{\\cellcolor{gray!40}{22,335}} \\\\  \n",
        "\n",
        "    \\mc{1}{l|}{var4} & \\mc{1}{r}{-0.041} & \\mc{1}{r}{0.755} & \\mc{1}{r}{1.880} & \\mc{1}{r}{-0.631} & \\mc{1}{r}{41,208} \\\\  \n",
        "\n",
        "    \\mc{1}{l|}{var5} & \\mc{1}{r}{-2.043} & \\mc{1}{r}{-0.785} & \\mc{1}{r}{-0.716} & \\mc{1}{r}{0.186} & \\mc{1}{r}{24,782} \\\\  \n",
        "\n",
        "    \\mc{1}{l|}{var6} & \\mc{1}{r}{1.230} & \\mc{1}{r}{0.567} & \\mc{1}{r}{0.481} & \\mc{1}{r}{-0.480} & \\mc{1}{r}{43,490} \\\\  \n",
        "\n",
        "    \\mc{1}{l|}{var7} & \\mc{1}{r}{-0.566} & \\mc{1}{r}{1.739} & \\mc{1}{r}{0.315} & \\mc{1}{r}{-0.856} & \\mc{1}{r}{39,933} \\\\  \n",
        "\n",
        "    \\mc{1}{l|}{var8} & \\mc{1}{r}{1.045} & \\mc{1}{r}{0.527} & \\mc{1}{r}{-0.387} & \\mc{1}{r}{1.670} & \\mc{1}{r}{63,132} \\\\  \n",
        "\n",
        "    \\mc{1}{l|}{var9} & \\mc{1}{r}{-0.239} & \\mc{1}{r}{-0.360} & \\mc{1}{r}{1.122} & \\mc{1}{r}{-0.181} & \\mc{1}{r}{56,453} \\\\  \n",
        "\n",
        "  \\end{tabu}\n",
        "  \\end{ThreePartTable}\n",
        "\n",
        "\\end{table}\n"
       ]
      }
     ],
     "prompt_number": 15
    },
    {
     "cell_type": "code",
     "collapsed": false,
     "input": [
      "longtable = pytab.LongTable(newtabular)\n",
      "print(longtable)"
     ],
     "language": "python",
     "metadata": {},
     "outputs": [
      {
       "output_type": "stream",
       "stream": "stdout",
       "text": [
        "\\begin{ThreePartTable}\n",
        "\\begin{longtabu}{cccccc}\n",
        "\n",
        "  \\centering \\\\\n",
        "  \\captionsetup{singlelinecheck=false,justification=centering}\n",
        "  \\caption{Table 1 \\label{table1}} \\\\\n",
        "   & \\mc{2}{c}{\\textbf{\\Large{Treated}}} & \\mc{2}{c}{\\textbf{\\Large{Control}}} &  \\\\ \n",
        "  \\cmidrule(lr){2-3} \\cmidrule(lr){4-5}\\morecmidrules\\cmidrule(lr){4-5} \n",
        "\n",
        "  \\endfirsthead\n",
        "\n",
        "  \\mc{6}{c}{\\tablename\\ \\thetable\\ -- \\emph{Continued from previous page}} \\\\\n",
        "   & \\mc{2}{c}{\\textbf{\\Large{Treated}}} & \\mc{2}{c}{\\textbf{\\Large{Control}}} &  \\\\ \n",
        "  \\cmidrule(lr){2-3} \\cmidrule(lr){4-5}\\morecmidrules\\cmidrule(lr){4-5} \n",
        "\n",
        "  \\endhead\n",
        "\n",
        "  \\mc{6}{r}{\\emph{Continued on next page}} \\\\\n",
        "\n",
        "  \\endfoot\n",
        "  \\endlastfoot\n",
        "\n",
        "  \\rotatebox{45}{\\emph{Measure}} & \\rotatebox{45}{\\emph{Male}} & \\rotatebox{45}{\\emph{Female}} & \\rotatebox{45}{\\emph{Male}} & \\rotatebox{45}{\\emph{Female}} & \\rotatebox{45}{\\emph{Observations}} \\\\[0.3cm] \n",
        "  \\hline \\hline  \n",
        "\n",
        "  \\\\[0.3cm]\n",
        "  \\mc{1}{l|}{var0} & \\mc{1}{r}{-0.517} & \\mc{1}{r}{0.879} & \\mc{1}{r}{-0.235} & \\mc{1}{r}{-1.171} & \\mc{1}{r}{28,310} \\\\  \n",
        "\n",
        "  \\mc{1}{l|}{var1} & \\mc{1}{r}{1.277} & \\mc{1}{r}{-2.389} & \\mc{1}{r}{0.145} & \\mc{1}{r}{-0.698} & \\mc{1}{r}{81,208} \\\\  \n",
        "\n",
        "  \\mc{1}{l|}{var2} & \\mc{1}{r}{-0.918} & \\mc{1}{r}{-0.487} & \\mc{1}{r}{1.615} & \\mc{1}{r}{0.669} & \\mc{1}{r}{63,223} \\\\  \n",
        "\n",
        "  \\mc{1}{l|}{\\cellcolor{gray!40}{var3}} & \\mc{1}{r}{\\cellcolor{gray!40}{-0.398}} & \\mc{1}{r}{\\cellcolor{gray!40}{0.257}} & \\mc{1}{r}{\\cellcolor{gray!40}{-0.650}} & \\mc{1}{r}{\\cellcolor{gray!40}{-0.041}} & \\mc{1}{r}{\\cellcolor{gray!40}{22,335}} \\\\  \n",
        "\n",
        "  \\mc{1}{l|}{var4} & \\mc{1}{r}{-0.041} & \\mc{1}{r}{0.755} & \\mc{1}{r}{1.880} & \\mc{1}{r}{-0.631} & \\mc{1}{r}{41,208} \\\\  \n",
        "\n",
        "  \\mc{1}{l|}{var5} & \\mc{1}{r}{-2.043} & \\mc{1}{r}{-0.785} & \\mc{1}{r}{-0.716} & \\mc{1}{r}{0.186} & \\mc{1}{r}{24,782} \\\\  \n",
        "\n",
        "  \\mc{1}{l|}{var6} & \\mc{1}{r}{1.230} & \\mc{1}{r}{0.567} & \\mc{1}{r}{0.481} & \\mc{1}{r}{-0.480} & \\mc{1}{r}{43,490} \\\\  \n",
        "\n",
        "  \\mc{1}{l|}{var7} & \\mc{1}{r}{-0.566} & \\mc{1}{r}{1.739} & \\mc{1}{r}{0.315} & \\mc{1}{r}{-0.856} & \\mc{1}{r}{39,933} \\\\  \n",
        "\n",
        "  \\mc{1}{l|}{var8} & \\mc{1}{r}{1.045} & \\mc{1}{r}{0.527} & \\mc{1}{r}{-0.387} & \\mc{1}{r}{1.670} & \\mc{1}{r}{63,132} \\\\  \n",
        "\n",
        "  \\mc{1}{l|}{var9} & \\mc{1}{r}{-0.239} & \\mc{1}{r}{-0.360} & \\mc{1}{r}{1.122} & \\mc{1}{r}{-0.181} & \\mc{1}{r}{56,453} \\\\  \n",
        "\n",
        "\\end{longtabu}\n",
        "\\end{ThreePartTable}\n"
       ]
      }
     ],
     "prompt_number": 16
    },
    {
     "cell_type": "markdown",
     "metadata": {},
     "source": [
      "Table Methods\n",
      "-------------\n",
      "\n",
      "- `set_caption`: give table a caption\n",
      "- `set_label`: give table a label\n",
      "- `set_location`: justify the table center='c', left='l' or right='r'\n",
      "- `add_note`: add a footnote to the table\n",
      "\n",
      "LongTable Only:\n",
      "\n",
      "- `set_repeats`: tell LateX how many rows to repeat at the top of each page;\n",
      "this usually is the number of header rows in your table"
     ]
    },
    {
     "cell_type": "code",
     "collapsed": false,
     "input": [
      "table.set_caption('A Table with Numbers')\n",
      "table.set_label('tab:table1')\n",
      "table.set_location('l')\n",
      "table.add_note('This is a footnote')\n",
      "table.add_note('This is another footnote')\n",
      "table.add_note('[1]This footnote has a superscript')\n",
      "print(table)"
     ],
     "language": "python",
     "metadata": {},
     "outputs": [
      {
       "output_type": "stream",
       "stream": "stdout",
       "text": [
        "\\begin{table}\\raggedright\n",
        "\\captionsetup{singlelinecheck=false,justification=raggedright}\n",
        "\\caption{A Table with Numbers \\label{tab:table1}}\n",
        "\n",
        "  \\begin{ThreePartTable}\n",
        "  \\begin{tabu}{cccccc}\n",
        "\n",
        "     & \\mc{2}{c}{\\textbf{\\Large{Treated}}} & \\mc{2}{c}{\\textbf{\\Large{Control}}} &  \\\\ \n",
        "    \\cmidrule(lr){2-3} \\cmidrule(lr){4-5}\\morecmidrules\\cmidrule(lr){4-5} \n",
        "\n",
        "    \\rotatebox{45}{\\emph{Measure}} & \\rotatebox{45}{\\emph{Male}} & \\rotatebox{45}{\\emph{Female}} & \\rotatebox{45}{\\emph{Male}} & \\rotatebox{45}{\\emph{Female}} & \\rotatebox{45}{\\emph{Observations}} \\\\[0.3cm] \n",
        "    \\hline \\hline  \n",
        "\n",
        "    \\\\[0.3cm]\n",
        "    \\mc{1}{l|}{var0} & \\mc{1}{r}{-0.517} & \\mc{1}{r}{0.879} & \\mc{1}{r}{-0.235} & \\mc{1}{r}{-1.171} & \\mc{1}{r}{28,310} \\\\  \n",
        "\n",
        "    \\mc{1}{l|}{var1} & \\mc{1}{r}{1.277} & \\mc{1}{r}{-2.389} & \\mc{1}{r}{0.145} & \\mc{1}{r}{-0.698} & \\mc{1}{r}{81,208} \\\\  \n",
        "\n",
        "    \\mc{1}{l|}{var2} & \\mc{1}{r}{-0.918} & \\mc{1}{r}{-0.487} & \\mc{1}{r}{1.615} & \\mc{1}{r}{0.669} & \\mc{1}{r}{63,223} \\\\  \n",
        "\n",
        "    \\mc{1}{l|}{\\cellcolor{gray!40}{var3}} & \\mc{1}{r}{\\cellcolor{gray!40}{-0.398}} & \\mc{1}{r}{\\cellcolor{gray!40}{0.257}} & \\mc{1}{r}{\\cellcolor{gray!40}{-0.650}} & \\mc{1}{r}{\\cellcolor{gray!40}{-0.041}} & \\mc{1}{r}{\\cellcolor{gray!40}{22,335}} \\\\  \n",
        "\n",
        "    \\mc{1}{l|}{var4} & \\mc{1}{r}{-0.041} & \\mc{1}{r}{0.755} & \\mc{1}{r}{1.880} & \\mc{1}{r}{-0.631} & \\mc{1}{r}{41,208} \\\\  \n",
        "\n",
        "    \\mc{1}{l|}{var5} & \\mc{1}{r}{-2.043} & \\mc{1}{r}{-0.785} & \\mc{1}{r}{-0.716} & \\mc{1}{r}{0.186} & \\mc{1}{r}{24,782} \\\\  \n",
        "\n",
        "    \\mc{1}{l|}{var6} & \\mc{1}{r}{1.230} & \\mc{1}{r}{0.567} & \\mc{1}{r}{0.481} & \\mc{1}{r}{-0.480} & \\mc{1}{r}{43,490} \\\\  \n",
        "\n",
        "    \\mc{1}{l|}{var7} & \\mc{1}{r}{-0.566} & \\mc{1}{r}{1.739} & \\mc{1}{r}{0.315} & \\mc{1}{r}{-0.856} & \\mc{1}{r}{39,933} \\\\  \n",
        "\n",
        "    \\mc{1}{l|}{var8} & \\mc{1}{r}{1.045} & \\mc{1}{r}{0.527} & \\mc{1}{r}{-0.387} & \\mc{1}{r}{1.670} & \\mc{1}{r}{63,132} \\\\  \n",
        "\n",
        "    \\mc{1}{l|}{var9} & \\mc{1}{r}{-0.239} & \\mc{1}{r}{-0.360} & \\mc{1}{r}{1.122} & \\mc{1}{r}{-0.181} & \\mc{1}{r}{56,453} \\\\  \n",
        "\n",
        "  \\end{tabu}\n",
        "    \\begin{tablenotes}\n",
        "    \\scriptsize\n",
        "    \\item This is a footnote\n",
        "    \\item This is another footnote\n",
        "    \\item [1]This footnote has a superscript\n",
        "    \\end{tablenotes}\n",
        "  \\end{ThreePartTable}\n",
        "\n",
        "\\end{table}\n"
       ]
      }
     ],
     "prompt_number": 17
    },
    {
     "cell_type": "code",
     "collapsed": false,
     "input": [
      "longtable.set_repeats(2)\n",
      "longtable.add_note('Footnote for a long table.')\n",
      "print(longtable)"
     ],
     "language": "python",
     "metadata": {},
     "outputs": [
      {
       "output_type": "stream",
       "stream": "stdout",
       "text": [
        "\\begin{ThreePartTable}\n",
        "\\begin{longtabu}{cccccc}\n",
        "\n",
        "  \\centering \\\\\n",
        "  \\captionsetup{singlelinecheck=false,justification=centering}\n",
        "  \\caption{Table 1 \\label{table1}} \\\\\n",
        "   & \\mc{2}{c}{\\textbf{\\Large{Treated}}} & \\mc{2}{c}{\\textbf{\\Large{Control}}} &  \\\\ \n",
        "  \\cmidrule(lr){2-3} \\cmidrule(lr){4-5}\\morecmidrules\\cmidrule(lr){4-5} \n",
        "\n",
        "  \\rotatebox{45}{\\emph{Measure}} & \\rotatebox{45}{\\emph{Male}} & \\rotatebox{45}{\\emph{Female}} & \\rotatebox{45}{\\emph{Male}} & \\rotatebox{45}{\\emph{Female}} & \\rotatebox{45}{\\emph{Observations}} \\\\[0.3cm] \n",
        "  \\hline \\hline  \n",
        "\n",
        "  \\endfirsthead\n",
        "\n",
        "  \\mc{6}{c}{\\tablename\\ \\thetable\\ -- \\emph{Continued from previous page}} \\\\\n",
        "   & \\mc{2}{c}{\\textbf{\\Large{Treated}}} & \\mc{2}{c}{\\textbf{\\Large{Control}}} &  \\\\ \n",
        "  \\cmidrule(lr){2-3} \\cmidrule(lr){4-5}\\morecmidrules\\cmidrule(lr){4-5} \n",
        "\n",
        "  \\rotatebox{45}{\\emph{Measure}} & \\rotatebox{45}{\\emph{Male}} & \\rotatebox{45}{\\emph{Female}} & \\rotatebox{45}{\\emph{Male}} & \\rotatebox{45}{\\emph{Female}} & \\rotatebox{45}{\\emph{Observations}} \\\\[0.3cm] \n",
        "  \\hline \\hline  \n",
        "\n",
        "  \\endhead\n",
        "\n",
        "  \\mc{6}{r}{\\emph{Continued on next page}} \\\\\n",
        "\n",
        "  \\endfoot\n",
        "  \\endlastfoot\n",
        "\n",
        "  \\\\[0.3cm]\n",
        "  \\mc{1}{l|}{var0} & \\mc{1}{r}{-0.517} & \\mc{1}{r}{0.879} & \\mc{1}{r}{-0.235} & \\mc{1}{r}{-1.171} & \\mc{1}{r}{28,310} \\\\  \n",
        "\n",
        "  \\mc{1}{l|}{var1} & \\mc{1}{r}{1.277} & \\mc{1}{r}{-2.389} & \\mc{1}{r}{0.145} & \\mc{1}{r}{-0.698} & \\mc{1}{r}{81,208} \\\\  \n",
        "\n",
        "  \\mc{1}{l|}{var2} & \\mc{1}{r}{-0.918} & \\mc{1}{r}{-0.487} & \\mc{1}{r}{1.615} & \\mc{1}{r}{0.669} & \\mc{1}{r}{63,223} \\\\  \n",
        "\n",
        "  \\mc{1}{l|}{\\cellcolor{gray!40}{var3}} & \\mc{1}{r}{\\cellcolor{gray!40}{-0.398}} & \\mc{1}{r}{\\cellcolor{gray!40}{0.257}} & \\mc{1}{r}{\\cellcolor{gray!40}{-0.650}} & \\mc{1}{r}{\\cellcolor{gray!40}{-0.041}} & \\mc{1}{r}{\\cellcolor{gray!40}{22,335}} \\\\  \n",
        "\n",
        "  \\mc{1}{l|}{var4} & \\mc{1}{r}{-0.041} & \\mc{1}{r}{0.755} & \\mc{1}{r}{1.880} & \\mc{1}{r}{-0.631} & \\mc{1}{r}{41,208} \\\\  \n",
        "\n",
        "  \\mc{1}{l|}{var5} & \\mc{1}{r}{-2.043} & \\mc{1}{r}{-0.785} & \\mc{1}{r}{-0.716} & \\mc{1}{r}{0.186} & \\mc{1}{r}{24,782} \\\\  \n",
        "\n",
        "  \\mc{1}{l|}{var6} & \\mc{1}{r}{1.230} & \\mc{1}{r}{0.567} & \\mc{1}{r}{0.481} & \\mc{1}{r}{-0.480} & \\mc{1}{r}{43,490} \\\\  \n",
        "\n",
        "  \\mc{1}{l|}{var7} & \\mc{1}{r}{-0.566} & \\mc{1}{r}{1.739} & \\mc{1}{r}{0.315} & \\mc{1}{r}{-0.856} & \\mc{1}{r}{39,933} \\\\  \n",
        "\n",
        "  \\mc{1}{l|}{var8} & \\mc{1}{r}{1.045} & \\mc{1}{r}{0.527} & \\mc{1}{r}{-0.387} & \\mc{1}{r}{1.670} & \\mc{1}{r}{63,132} \\\\  \n",
        "\n",
        "  \\mc{1}{l|}{var9} & \\mc{1}{r}{-0.239} & \\mc{1}{r}{-0.360} & \\mc{1}{r}{1.122} & \\mc{1}{r}{-0.181} & \\mc{1}{r}{56,453} \\\\  \n",
        "\n",
        "\\end{longtabu}\n",
        "  \\begin{tablenotes}\n",
        "  \\scriptsize\n",
        "  \\item Footnote for a long table.\n",
        "  \\end{tablenotes}\n",
        "\\end{ThreePartTable}\n"
       ]
      }
     ],
     "prompt_number": 18
    },
    {
     "cell_type": "markdown",
     "metadata": {},
     "source": [
      "Nesting Inside Other Environments\n",
      "---------------------------------\n",
      "You can have PyTabular next tables inside other environments. For instance, the `landscape` environment.\n",
      "\n",
      "- `add_environment`"
     ]
    },
    {
     "cell_type": "code",
     "collapsed": false,
     "input": [
      "longtable.add_environment('landscape')\n",
      "print(longtable)"
     ],
     "language": "python",
     "metadata": {},
     "outputs": [
      {
       "output_type": "stream",
       "stream": "stdout",
       "text": [
        "\\begin{landscape}\n",
        "\n",
        "  \\begin{ThreePartTable}\n",
        "  \\begin{longtabu}{cccccc}\n",
        "\n",
        "    \\centering \\\\\n",
        "    \\captionsetup{singlelinecheck=false,justification=centering}\n",
        "    \\caption{Table 1 \\label{table1}} \\\\\n",
        "     & \\mc{2}{c}{\\textbf{\\Large{Treated}}} & \\mc{2}{c}{\\textbf{\\Large{Control}}} &  \\\\ \n",
        "    \\cmidrule(lr){2-3} \\cmidrule(lr){4-5}\\morecmidrules\\cmidrule(lr){4-5} \n",
        "\n",
        "    \\rotatebox{45}{\\emph{Measure}} & \\rotatebox{45}{\\emph{Male}} & \\rotatebox{45}{\\emph{Female}} & \\rotatebox{45}{\\emph{Male}} & \\rotatebox{45}{\\emph{Female}} & \\rotatebox{45}{\\emph{Observations}} \\\\[0.3cm] \n",
        "    \\hline \\hline  \n",
        "\n",
        "    \\endfirsthead\n",
        "\n",
        "    \\mc{6}{c}{\\tablename\\ \\thetable\\ -- \\emph{Continued from previous page}} \\\\\n",
        "     & \\mc{2}{c}{\\textbf{\\Large{Treated}}} & \\mc{2}{c}{\\textbf{\\Large{Control}}} &  \\\\ \n",
        "    \\cmidrule(lr){2-3} \\cmidrule(lr){4-5}\\morecmidrules\\cmidrule(lr){4-5} \n",
        "\n",
        "    \\rotatebox{45}{\\emph{Measure}} & \\rotatebox{45}{\\emph{Male}} & \\rotatebox{45}{\\emph{Female}} & \\rotatebox{45}{\\emph{Male}} & \\rotatebox{45}{\\emph{Female}} & \\rotatebox{45}{\\emph{Observations}} \\\\[0.3cm] \n",
        "    \\hline \\hline  \n",
        "\n",
        "    \\endhead\n",
        "\n",
        "    \\mc{6}{r}{\\emph{Continued on next page}} \\\\\n",
        "\n",
        "    \\endfoot\n",
        "    \\endlastfoot\n",
        "\n",
        "    \\\\[0.3cm]\n",
        "    \\mc{1}{l|}{var0} & \\mc{1}{r}{-0.517} & \\mc{1}{r}{0.879} & \\mc{1}{r}{-0.235} & \\mc{1}{r}{-1.171} & \\mc{1}{r}{28,310} \\\\  \n",
        "\n",
        "    \\mc{1}{l|}{var1} & \\mc{1}{r}{1.277} & \\mc{1}{r}{-2.389} & \\mc{1}{r}{0.145} & \\mc{1}{r}{-0.698} & \\mc{1}{r}{81,208} \\\\  \n",
        "\n",
        "    \\mc{1}{l|}{var2} & \\mc{1}{r}{-0.918} & \\mc{1}{r}{-0.487} & \\mc{1}{r}{1.615} & \\mc{1}{r}{0.669} & \\mc{1}{r}{63,223} \\\\  \n",
        "\n",
        "    \\mc{1}{l|}{\\cellcolor{gray!40}{var3}} & \\mc{1}{r}{\\cellcolor{gray!40}{-0.398}} & \\mc{1}{r}{\\cellcolor{gray!40}{0.257}} & \\mc{1}{r}{\\cellcolor{gray!40}{-0.650}} & \\mc{1}{r}{\\cellcolor{gray!40}{-0.041}} & \\mc{1}{r}{\\cellcolor{gray!40}{22,335}} \\\\  \n",
        "\n",
        "    \\mc{1}{l|}{var4} & \\mc{1}{r}{-0.041} & \\mc{1}{r}{0.755} & \\mc{1}{r}{1.880} & \\mc{1}{r}{-0.631} & \\mc{1}{r}{41,208} \\\\  \n",
        "\n",
        "    \\mc{1}{l|}{var5} & \\mc{1}{r}{-2.043} & \\mc{1}{r}{-0.785} & \\mc{1}{r}{-0.716} & \\mc{1}{r}{0.186} & \\mc{1}{r}{24,782} \\\\  \n",
        "\n",
        "    \\mc{1}{l|}{var6} & \\mc{1}{r}{1.230} & \\mc{1}{r}{0.567} & \\mc{1}{r}{0.481} & \\mc{1}{r}{-0.480} & \\mc{1}{r}{43,490} \\\\  \n",
        "\n",
        "    \\mc{1}{l|}{var7} & \\mc{1}{r}{-0.566} & \\mc{1}{r}{1.739} & \\mc{1}{r}{0.315} & \\mc{1}{r}{-0.856} & \\mc{1}{r}{39,933} \\\\  \n",
        "\n",
        "    \\mc{1}{l|}{var8} & \\mc{1}{r}{1.045} & \\mc{1}{r}{0.527} & \\mc{1}{r}{-0.387} & \\mc{1}{r}{1.670} & \\mc{1}{r}{63,132} \\\\  \n",
        "\n",
        "    \\mc{1}{l|}{var9} & \\mc{1}{r}{-0.239} & \\mc{1}{r}{-0.360} & \\mc{1}{r}{1.122} & \\mc{1}{r}{-0.181} & \\mc{1}{r}{56,453} \\\\  \n",
        "\n",
        "  \\end{longtabu}\n",
        "    \\begin{tablenotes}\n",
        "    \\scriptsize\n",
        "    \\item Footnote for a long table.\n",
        "    \\end{tablenotes}\n",
        "  \\end{ThreePartTable}\n",
        "\n",
        "\\end{landscape}\n"
       ]
      }
     ],
     "prompt_number": 19
    },
    {
     "cell_type": "markdown",
     "metadata": {},
     "source": [
      "Indentation\n",
      "-----------\n",
      "\n",
      "PyTabular tries to indent the tables nicely, however you can eliminate indenting or change the indent width."
     ]
    },
    {
     "cell_type": "code",
     "collapsed": false,
     "input": [
      "longtable.set_indent(0)\n",
      "print(longtable)"
     ],
     "language": "python",
     "metadata": {},
     "outputs": [
      {
       "output_type": "stream",
       "stream": "stdout",
       "text": [
        "\\begin{landscape}\n",
        "\n",
        "\\begin{ThreePartTable}\n",
        "\\begin{longtabu}{cccccc}\n",
        "\n",
        "\\centering \\\\\n",
        "\\captionsetup{singlelinecheck=false,justification=centering}\n",
        "\\caption{Table 1 \\label{table1}} \\\\\n",
        " & \\mc{2}{c}{\\textbf{\\Large{Treated}}} & \\mc{2}{c}{\\textbf{\\Large{Control}}} &  \\\\ \n",
        "\\cmidrule(lr){2-3} \\cmidrule(lr){4-5}\\morecmidrules\\cmidrule(lr){4-5} \n",
        "\n",
        "\\rotatebox{45}{\\emph{Measure}} & \\rotatebox{45}{\\emph{Male}} & \\rotatebox{45}{\\emph{Female}} & \\rotatebox{45}{\\emph{Male}} & \\rotatebox{45}{\\emph{Female}} & \\rotatebox{45}{\\emph{Observations}} \\\\[0.3cm] \n",
        "\\hline \\hline  \n",
        "\n",
        "\\endfirsthead\n",
        "\n",
        "\\mc{6}{c}{\\tablename\\ \\thetable\\ -- \\emph{Continued from previous page}} \\\\\n",
        " & \\mc{2}{c}{\\textbf{\\Large{Treated}}} & \\mc{2}{c}{\\textbf{\\Large{Control}}} &  \\\\ \n",
        "\\cmidrule(lr){2-3} \\cmidrule(lr){4-5}\\morecmidrules\\cmidrule(lr){4-5} \n",
        "\n",
        "\\rotatebox{45}{\\emph{Measure}} & \\rotatebox{45}{\\emph{Male}} & \\rotatebox{45}{\\emph{Female}} & \\rotatebox{45}{\\emph{Male}} & \\rotatebox{45}{\\emph{Female}} & \\rotatebox{45}{\\emph{Observations}} \\\\[0.3cm] \n",
        "\\hline \\hline  \n",
        "\n",
        "\\endhead\n",
        "\n",
        "\\mc{6}{r}{\\emph{Continued on next page}} \\\\\n",
        "\n",
        "\\endfoot\n",
        "\\endlastfoot\n",
        "\n",
        "\\\\[0.3cm]\n",
        "\\mc{1}{l|}{var0} & \\mc{1}{r}{-0.517} & \\mc{1}{r}{0.879} & \\mc{1}{r}{-0.235} & \\mc{1}{r}{-1.171} & \\mc{1}{r}{28,310} \\\\  \n",
        "\n",
        "\\mc{1}{l|}{var1} & \\mc{1}{r}{1.277} & \\mc{1}{r}{-2.389} & \\mc{1}{r}{0.145} & \\mc{1}{r}{-0.698} & \\mc{1}{r}{81,208} \\\\  \n",
        "\n",
        "\\mc{1}{l|}{var2} & \\mc{1}{r}{-0.918} & \\mc{1}{r}{-0.487} & \\mc{1}{r}{1.615} & \\mc{1}{r}{0.669} & \\mc{1}{r}{63,223} \\\\  \n",
        "\n",
        "\\mc{1}{l|}{\\cellcolor{gray!40}{var3}} & \\mc{1}{r}{\\cellcolor{gray!40}{-0.398}} & \\mc{1}{r}{\\cellcolor{gray!40}{0.257}} & \\mc{1}{r}{\\cellcolor{gray!40}{-0.650}} & \\mc{1}{r}{\\cellcolor{gray!40}{-0.041}} & \\mc{1}{r}{\\cellcolor{gray!40}{22,335}} \\\\  \n",
        "\n",
        "\\mc{1}{l|}{var4} & \\mc{1}{r}{-0.041} & \\mc{1}{r}{0.755} & \\mc{1}{r}{1.880} & \\mc{1}{r}{-0.631} & \\mc{1}{r}{41,208} \\\\  \n",
        "\n",
        "\\mc{1}{l|}{var5} & \\mc{1}{r}{-2.043} & \\mc{1}{r}{-0.785} & \\mc{1}{r}{-0.716} & \\mc{1}{r}{0.186} & \\mc{1}{r}{24,782} \\\\  \n",
        "\n",
        "\\mc{1}{l|}{var6} & \\mc{1}{r}{1.230} & \\mc{1}{r}{0.567} & \\mc{1}{r}{0.481} & \\mc{1}{r}{-0.480} & \\mc{1}{r}{43,490} \\\\  \n",
        "\n",
        "\\mc{1}{l|}{var7} & \\mc{1}{r}{-0.566} & \\mc{1}{r}{1.739} & \\mc{1}{r}{0.315} & \\mc{1}{r}{-0.856} & \\mc{1}{r}{39,933} \\\\  \n",
        "\n",
        "\\mc{1}{l|}{var8} & \\mc{1}{r}{1.045} & \\mc{1}{r}{0.527} & \\mc{1}{r}{-0.387} & \\mc{1}{r}{1.670} & \\mc{1}{r}{63,132} \\\\  \n",
        "\n",
        "\\mc{1}{l|}{var9} & \\mc{1}{r}{-0.239} & \\mc{1}{r}{-0.360} & \\mc{1}{r}{1.122} & \\mc{1}{r}{-0.181} & \\mc{1}{r}{56,453} \\\\  \n",
        "\n",
        "\\end{longtabu}\n",
        "\\begin{tablenotes}\n",
        "\\scriptsize\n",
        "\\item Footnote for a long table.\n",
        "\\end{tablenotes}\n",
        "\\end{ThreePartTable}\n",
        "\n",
        "\\end{landscape}\n"
       ]
      }
     ],
     "prompt_number": 20
    },
    {
     "cell_type": "code",
     "collapsed": false,
     "input": [
      "longtable.set_indent(4)\n",
      "print(longtable)"
     ],
     "language": "python",
     "metadata": {},
     "outputs": [
      {
       "output_type": "stream",
       "stream": "stdout",
       "text": [
        "\\begin{landscape}\n",
        "\n",
        "    \\begin{ThreePartTable}\n",
        "    \\begin{longtabu}{cccccc}\n",
        "\n",
        "        \\centering \\\\\n",
        "        \\captionsetup{singlelinecheck=false,justification=centering}\n",
        "        \\caption{Table 1 \\label{table1}} \\\\\n",
        "         & \\mc{2}{c}{\\textbf{\\Large{Treated}}} & \\mc{2}{c}{\\textbf{\\Large{Control}}} &  \\\\ \n",
        "        \\cmidrule(lr){2-3} \\cmidrule(lr){4-5}\\morecmidrules\\cmidrule(lr){4-5} \n",
        "\n",
        "        \\rotatebox{45}{\\emph{Measure}} & \\rotatebox{45}{\\emph{Male}} & \\rotatebox{45}{\\emph{Female}} & \\rotatebox{45}{\\emph{Male}} & \\rotatebox{45}{\\emph{Female}} & \\rotatebox{45}{\\emph{Observations}} \\\\[0.3cm] \n",
        "        \\hline \\hline  \n",
        "\n",
        "        \\endfirsthead\n",
        "\n",
        "        \\mc{6}{c}{\\tablename\\ \\thetable\\ -- \\emph{Continued from previous page}} \\\\\n",
        "         & \\mc{2}{c}{\\textbf{\\Large{Treated}}} & \\mc{2}{c}{\\textbf{\\Large{Control}}} &  \\\\ \n",
        "        \\cmidrule(lr){2-3} \\cmidrule(lr){4-5}\\morecmidrules\\cmidrule(lr){4-5} \n",
        "\n",
        "        \\rotatebox{45}{\\emph{Measure}} & \\rotatebox{45}{\\emph{Male}} & \\rotatebox{45}{\\emph{Female}} & \\rotatebox{45}{\\emph{Male}} & \\rotatebox{45}{\\emph{Female}} & \\rotatebox{45}{\\emph{Observations}} \\\\[0.3cm] \n",
        "        \\hline \\hline  \n",
        "\n",
        "        \\endhead\n",
        "\n",
        "        \\mc{6}{r}{\\emph{Continued on next page}} \\\\\n",
        "\n",
        "        \\endfoot\n",
        "        \\endlastfoot\n",
        "\n",
        "        \\\\[0.3cm]\n",
        "        \\mc{1}{l|}{var0} & \\mc{1}{r}{-0.517} & \\mc{1}{r}{0.879} & \\mc{1}{r}{-0.235} & \\mc{1}{r}{-1.171} & \\mc{1}{r}{28,310} \\\\  \n",
        "\n",
        "        \\mc{1}{l|}{var1} & \\mc{1}{r}{1.277} & \\mc{1}{r}{-2.389} & \\mc{1}{r}{0.145} & \\mc{1}{r}{-0.698} & \\mc{1}{r}{81,208} \\\\  \n",
        "\n",
        "        \\mc{1}{l|}{var2} & \\mc{1}{r}{-0.918} & \\mc{1}{r}{-0.487} & \\mc{1}{r}{1.615} & \\mc{1}{r}{0.669} & \\mc{1}{r}{63,223} \\\\  \n",
        "\n",
        "        \\mc{1}{l|}{\\cellcolor{gray!40}{var3}} & \\mc{1}{r}{\\cellcolor{gray!40}{-0.398}} & \\mc{1}{r}{\\cellcolor{gray!40}{0.257}} & \\mc{1}{r}{\\cellcolor{gray!40}{-0.650}} & \\mc{1}{r}{\\cellcolor{gray!40}{-0.041}} & \\mc{1}{r}{\\cellcolor{gray!40}{22,335}} \\\\  \n",
        "\n",
        "        \\mc{1}{l|}{var4} & \\mc{1}{r}{-0.041} & \\mc{1}{r}{0.755} & \\mc{1}{r}{1.880} & \\mc{1}{r}{-0.631} & \\mc{1}{r}{41,208} \\\\  \n",
        "\n",
        "        \\mc{1}{l|}{var5} & \\mc{1}{r}{-2.043} & \\mc{1}{r}{-0.785} & \\mc{1}{r}{-0.716} & \\mc{1}{r}{0.186} & \\mc{1}{r}{24,782} \\\\  \n",
        "\n",
        "        \\mc{1}{l|}{var6} & \\mc{1}{r}{1.230} & \\mc{1}{r}{0.567} & \\mc{1}{r}{0.481} & \\mc{1}{r}{-0.480} & \\mc{1}{r}{43,490} \\\\  \n",
        "\n",
        "        \\mc{1}{l|}{var7} & \\mc{1}{r}{-0.566} & \\mc{1}{r}{1.739} & \\mc{1}{r}{0.315} & \\mc{1}{r}{-0.856} & \\mc{1}{r}{39,933} \\\\  \n",
        "\n",
        "        \\mc{1}{l|}{var8} & \\mc{1}{r}{1.045} & \\mc{1}{r}{0.527} & \\mc{1}{r}{-0.387} & \\mc{1}{r}{1.670} & \\mc{1}{r}{63,132} \\\\  \n",
        "\n",
        "        \\mc{1}{l|}{var9} & \\mc{1}{r}{-0.239} & \\mc{1}{r}{-0.360} & \\mc{1}{r}{1.122} & \\mc{1}{r}{-0.181} & \\mc{1}{r}{56,453} \\\\  \n",
        "\n",
        "    \\end{longtabu}\n",
        "        \\begin{tablenotes}\n",
        "        \\scriptsize\n",
        "        \\item Footnote for a long table.\n",
        "        \\end{tablenotes}\n",
        "    \\end{ThreePartTable}\n",
        "\n",
        "\\end{landscape}\n"
       ]
      }
     ],
     "prompt_number": 21
    },
    {
     "cell_type": "markdown",
     "metadata": {},
     "source": [
      "Advanced Merging\n",
      "----------------\n",
      "\n",
      "We can merge across rows and columns simultaneously. In LateX, these means nesting `\\multirow` with `\\multicolumn`. Lets modify the last two rows of `table` to demonstrate. In this exercise, lets change the last two rows as if we wanted them to display a fit statistic. "
     ]
    },
    {
     "cell_type": "code",
     "collapsed": false,
     "input": [
      "table[-2,0].set_content('$R^2$') #changing the content cell in the 2nd to last row, first column\n",
      "table[-2:,0].merge(force=True) #merging over contents (must specify force=True)\n",
      "table[-2:,1:].merge(force=True) #merging the data together (across rows and columns)\n",
      "table[-2,1].set_alignment('c')\n",
      "print(table)"
     ],
     "language": "python",
     "metadata": {},
     "outputs": [
      {
       "output_type": "stream",
       "stream": "stdout",
       "text": [
        "\\begin{table}\\raggedright\n",
        "\\captionsetup{singlelinecheck=false,justification=raggedright}\n",
        "\\caption{A Table with Numbers \\label{tab:table1}}\n",
        "\n",
        "  \\begin{ThreePartTable}\n",
        "  \\begin{tabu}{cccccc}\n",
        "\n",
        "     & \\mc{2}{c}{\\textbf{\\Large{Treated}}} & \\mc{2}{c}{\\textbf{\\Large{Control}}} &  \\\\ \n",
        "    \\cmidrule(lr){2-3} \\cmidrule(lr){4-5}\\morecmidrules\\cmidrule(lr){4-5} \n",
        "\n",
        "    \\rotatebox{45}{\\emph{Measure}} & \\rotatebox{45}{\\emph{Male}} & \\rotatebox{45}{\\emph{Female}} & \\rotatebox{45}{\\emph{Male}} & \\rotatebox{45}{\\emph{Female}} & \\rotatebox{45}{\\emph{Observations}} \\\\[0.3cm] \n",
        "    \\hline \\hline  \n",
        "\n",
        "    \\\\[0.3cm]\n",
        "    \\mc{1}{l|}{var0} & \\mc{1}{r}{-0.517} & \\mc{1}{r}{0.879} & \\mc{1}{r}{-0.235} & \\mc{1}{r}{-1.171} & \\mc{1}{r}{28,310} \\\\  \n",
        "\n",
        "    \\mc{1}{l|}{var1} & \\mc{1}{r}{1.277} & \\mc{1}{r}{-2.389} & \\mc{1}{r}{0.145} & \\mc{1}{r}{-0.698} & \\mc{1}{r}{81,208} \\\\  \n",
        "\n",
        "    \\mc{1}{l|}{var2} & \\mc{1}{r}{-0.918} & \\mc{1}{r}{-0.487} & \\mc{1}{r}{1.615} & \\mc{1}{r}{0.669} & \\mc{1}{r}{63,223} \\\\  \n",
        "\n",
        "    \\mc{1}{l|}{\\cellcolor{gray!40}{var3}} & \\mc{1}{r}{\\cellcolor{gray!40}{-0.398}} & \\mc{1}{r}{\\cellcolor{gray!40}{0.257}} & \\mc{1}{r}{\\cellcolor{gray!40}{-0.650}} & \\mc{1}{r}{\\cellcolor{gray!40}{-0.041}} & \\mc{1}{r}{\\cellcolor{gray!40}{22,335}} \\\\  \n",
        "\n",
        "    \\mc{1}{l|}{var4} & \\mc{1}{r}{-0.041} & \\mc{1}{r}{0.755} & \\mc{1}{r}{1.880} & \\mc{1}{r}{-0.631} & \\mc{1}{r}{41,208} \\\\  \n",
        "\n",
        "    \\mc{1}{l|}{var5} & \\mc{1}{r}{-2.043} & \\mc{1}{r}{-0.785} & \\mc{1}{r}{-0.716} & \\mc{1}{r}{0.186} & \\mc{1}{r}{24,782} \\\\  \n",
        "\n",
        "    \\mc{1}{l|}{var6} & \\mc{1}{r}{1.230} & \\mc{1}{r}{0.567} & \\mc{1}{r}{0.481} & \\mc{1}{r}{-0.480} & \\mc{1}{r}{43,490} \\\\  \n",
        "\n",
        "    \\mc{1}{l|}{var7} & \\mc{1}{r}{-0.566} & \\mc{1}{r}{1.739} & \\mc{1}{r}{0.315} & \\mc{1}{r}{-0.856} & \\mc{1}{r}{39,933} \\\\  \n",
        "\n",
        "    \\mc{1}{l|}{\\mr{2}{*}{$R^2$}} & \\mc{5}{c}{\\mr{2}{*}{1.045}} \\\\  \n",
        "\n",
        "    \\mc{1}{l|}{} & \\mc{5}{r}{} \\\\  \n",
        "\n",
        "  \\end{tabu}\n",
        "    \\begin{tablenotes}\n",
        "    \\scriptsize\n",
        "    \\item This is a footnote\n",
        "    \\item This is another footnote\n",
        "    \\item [1]This footnote has a superscript\n",
        "    \\end{tablenotes}\n",
        "  \\end{ThreePartTable}\n",
        "\n",
        "\\end{table}\n"
       ]
      },
      {
       "output_type": "stream",
       "stream": "stderr",
       "text": [
        "/home/jake/Documents/repos/erc/erc-tools/pytabular/pytabular/tables.py:274: UserWarning: Special character \"$\" found in cell (10, 0),\n",
        "special characters may cause LateX errors, use remove_character() to remove\n",
        "  warnings.warn(msg, UserWarning)\n",
        "/home/jake/Documents/repos/erc/erc-tools/pytabular/pytabular/tables.py:274: UserWarning: Special character \"^\" found in cell (10, 0),\n",
        "special characters may cause LateX errors, use remove_character() to remove\n",
        "  warnings.warn(msg, UserWarning)\n"
       ]
      }
     ],
     "prompt_number": 22
    },
    {
     "cell_type": "markdown",
     "metadata": {},
     "source": [
      "Warnings\n",
      "--------\n",
      "You may have noticed the special character warnings above. PyTabular is not smart, and if you use special characters (e.g. '&', '%', '#', '_', '{', '}', '$', '\\\\', '~', '^') in a cell it will not fix the cell if you have used special characters inappropriately. However, it will warn you when it spots these characters and you can remove these characters using the `remove_character` method. Otherwise, we trust you know LateX well enough to use these special characters correctly."
     ]
    }
   ],
   "metadata": {}
  }
 ]
}